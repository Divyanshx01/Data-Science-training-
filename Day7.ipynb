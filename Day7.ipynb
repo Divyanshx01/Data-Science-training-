{
 "cells": [
  {
   "cell_type": "code",
   "execution_count": 28,
   "id": "1e62b06a-7ce8-4163-a91f-c8f3710801b0",
   "metadata": {},
   "outputs": [],
   "source": [
    "class BMW:\n",
    "    def super_turbo_engines(self):\n",
    "        print('super_turbo_engine')\n",
    "\n",
    "\n",
    "class AUDI(BMW):\n",
    "    def auto_pilot(self):\n",
    "        print('Can run on Auto pilot Mode!!')\n",
    "        "
   ]
  },
  {
   "cell_type": "code",
   "execution_count": 29,
   "id": "4ded3a0f-ea36-4473-8d11-e11b1a41300c",
   "metadata": {},
   "outputs": [],
   "source": [
    "audi_r8 = AUDI()\n"
   ]
  },
  {
   "cell_type": "code",
   "execution_count": 30,
   "id": "1b337e63-665f-45b1-bbc2-6748b27c6f68",
   "metadata": {},
   "outputs": [
    {
     "name": "stdout",
     "output_type": "stream",
     "text": [
      "Can run on Auto pilot Mode!!\n"
     ]
    }
   ],
   "source": [
    "audi_r8.auto_pilot()"
   ]
  },
  {
   "cell_type": "code",
   "execution_count": 31,
   "id": "8981f0f7-4d45-499f-9e77-e3ddaadded93",
   "metadata": {},
   "outputs": [
    {
     "name": "stdout",
     "output_type": "stream",
     "text": [
      "super_turbo_engine\n"
     ]
    }
   ],
   "source": [
    "audi_r8.super_turbo_engines()"
   ]
  },
  {
   "cell_type": "code",
   "execution_count": 32,
   "id": "c9323fd7-9f78-4941-abca-6aa56d5779c6",
   "metadata": {},
   "outputs": [],
   "source": [
    "bmw_m5competition = BMW()"
   ]
  },
  {
   "cell_type": "code",
   "execution_count": 33,
   "id": "f4ba75e3-0c86-4e54-8351-c01a9be32335",
   "metadata": {},
   "outputs": [
    {
     "name": "stdout",
     "output_type": "stream",
     "text": [
      "super_turbo_engine\n"
     ]
    }
   ],
   "source": [
    "bmw_m5competition.super_turbo_engines()"
   ]
  },
  {
   "cell_type": "code",
   "execution_count": 34,
   "id": "31c95f6d-8d54-4e30-a093-31eaadc4682a",
   "metadata": {},
   "outputs": [],
   "source": [
    "audi_rs7 = AUDI()"
   ]
  },
  {
   "cell_type": "code",
   "execution_count": 35,
   "id": "24bb3f27-2672-4c5b-9845-fb5e03c8259a",
   "metadata": {},
   "outputs": [
    {
     "name": "stdout",
     "output_type": "stream",
     "text": [
      "super_turbo_engine\n"
     ]
    }
   ],
   "source": [
    "audi_rs7.super_turbo_engines()"
   ]
  },
  {
   "cell_type": "code",
   "execution_count": 38,
   "id": "ac8fddef-f674-4531-be60-28fe6ac7e10a",
   "metadata": {},
   "outputs": [],
   "source": [
    "class Daily_Object:\n",
    "\n",
    "  def phone_case(self):\n",
    "    print('Strong Build Phone Case')\n",
    "\n",
    "\n",
    "class JBL:\n",
    "  def sonic_speaker(self):\n",
    "    print('High Quality Sound Speaker')\n",
    "\n",
    "class Samsung:\n",
    "  def screen_display(self):\n",
    "    print('4k HD Display')\n",
    "\n",
    "class Nvidia:\n",
    "    def motherboard(self):\n",
    "        print('Fast motherboard')\n",
    "\n",
    "class Sony:\n",
    "    def camera(self):\n",
    "        print('4K Camera')\n",
    "\n",
    "class Lava:\n",
    "    def charger(self):\n",
    "        print('Super fast charger')\n",
    "\n",
    "class Mobile(Daily_Object,JBL,Samsung,Nvidia,Sony,Lava):\n",
    "  def __init__(self):\n",
    "    print('Phone Object Created Successfully!!')\n",
    "      "
   ]
  },
  {
   "cell_type": "code",
   "execution_count": 39,
   "id": "57d40d8a-1bad-4d6a-bcf2-e83ad0058821",
   "metadata": {},
   "outputs": [
    {
     "name": "stdout",
     "output_type": "stream",
     "text": [
      "Phone Object Created Successfully!!\n"
     ]
    }
   ],
   "source": [
    "nothing = Mobile()\n"
   ]
  },
  {
   "cell_type": "code",
   "execution_count": 41,
   "id": "c32ebb4d-ac6a-4462-ba58-41361040bb95",
   "metadata": {},
   "outputs": [
    {
     "name": "stdout",
     "output_type": "stream",
     "text": [
      "4K Camera\n"
     ]
    }
   ],
   "source": [
    "nothing.camera()"
   ]
  },
  {
   "cell_type": "code",
   "execution_count": 42,
   "id": "b8e05fb9-a464-444b-8b07-c5322966b937",
   "metadata": {},
   "outputs": [
    {
     "name": "stdout",
     "output_type": "stream",
     "text": [
      "Super fast charger\n"
     ]
    }
   ],
   "source": [
    "nothing.charger()"
   ]
  },
  {
   "cell_type": "code",
   "execution_count": 43,
   "id": "81f0b431-922d-4dc7-9013-20428785bfcd",
   "metadata": {},
   "outputs": [
    {
     "name": "stdout",
     "output_type": "stream",
     "text": [
      "Fast motherboard\n"
     ]
    }
   ],
   "source": [
    "nothing.motherboard()"
   ]
  },
  {
   "cell_type": "code",
   "execution_count": 44,
   "id": "76ff56c6-2fc3-4601-b68d-6a1673508345",
   "metadata": {},
   "outputs": [
    {
     "name": "stdout",
     "output_type": "stream",
     "text": [
      "Strong Build Phone Case\n"
     ]
    }
   ],
   "source": [
    "nothing.phone_case()"
   ]
  },
  {
   "cell_type": "code",
   "execution_count": 45,
   "id": "5ef219ba-d48a-456d-914f-2a191e7c2109",
   "metadata": {},
   "outputs": [
    {
     "name": "stdout",
     "output_type": "stream",
     "text": [
      "4k HD Display\n"
     ]
    }
   ],
   "source": [
    "nothing.screen_display()"
   ]
  },
  {
   "cell_type": "code",
   "execution_count": 46,
   "id": "6583e726-58bd-4ea2-aed2-faa1274c810e",
   "metadata": {},
   "outputs": [
    {
     "name": "stdout",
     "output_type": "stream",
     "text": [
      "High Quality Sound Speaker\n"
     ]
    }
   ],
   "source": [
    "nothing.sonic_speaker()"
   ]
  },
  {
   "cell_type": "code",
   "execution_count": 47,
   "id": "d83f508e-be43-46b3-bc13-97d3378b0431",
   "metadata": {},
   "outputs": [
    {
     "name": "stdout",
     "output_type": "stream",
     "text": [
      "Phone Object Created Successfully!!\n"
     ]
    }
   ],
   "source": [
    "realme = Mobile()"
   ]
  },
  {
   "cell_type": "code",
   "execution_count": 48,
   "id": "59d48b89-176e-4cd2-be94-50b307cc9f1f",
   "metadata": {},
   "outputs": [
    {
     "name": "stdout",
     "output_type": "stream",
     "text": [
      "4K Camera\n"
     ]
    }
   ],
   "source": [
    "realme.camera()\n"
   ]
  },
  {
   "cell_type": "code",
   "execution_count": 49,
   "id": "202891cd-3138-4c58-ac66-5e0f673700d9",
   "metadata": {},
   "outputs": [
    {
     "name": "stdout",
     "output_type": "stream",
     "text": [
      "Super fast charger\n"
     ]
    }
   ],
   "source": [
    "realme.charger()"
   ]
  },
  {
   "cell_type": "code",
   "execution_count": 50,
   "id": "c90a6214-ccfb-47f7-8ca4-3cfc5ce7a051",
   "metadata": {},
   "outputs": [
    {
     "name": "stdout",
     "output_type": "stream",
     "text": [
      "High Quality Sound Speaker\n"
     ]
    }
   ],
   "source": [
    "realme.sonic_speaker()"
   ]
  },
  {
   "cell_type": "code",
   "execution_count": 51,
   "id": "7f68ef25-ab6e-4701-8b1b-db889bb3d1d6",
   "metadata": {},
   "outputs": [
    {
     "name": "stdout",
     "output_type": "stream",
     "text": [
      "Phone Object Created Successfully!!\n"
     ]
    }
   ],
   "source": [
    "nothing = Mobile()"
   ]
  },
  {
   "cell_type": "code",
   "execution_count": 52,
   "id": "c9904938-3265-425b-9b7a-8212f7e4b007",
   "metadata": {},
   "outputs": [
    {
     "name": "stdout",
     "output_type": "stream",
     "text": [
      "Harshwardhan\n"
     ]
    }
   ],
   "source": [
    "print('Harshwardhan')"
   ]
  },
  {
   "cell_type": "code",
   "execution_count": 53,
   "id": "8bfe2a4a-f237-450f-a312-254602db3ea2",
   "metadata": {},
   "outputs": [],
   "source": [
    "class Grandfather:\n",
    "    def land_property(self):\n",
    "        print('Land property!!')\n",
    "\n",
    "class Father(Grandfather):\n",
    "    def bank_balance(self):\n",
    "        print('Big Money Power, Huge bank balance')\n",
    "\n",
    "class Son(Father):\n",
    "    def political_power(self):\n",
    "        print('Political power')\n",
    "\n",
    "class Grandson(Son):\n",
    "     def mind(self):\n",
    "         print('Self Study')\n",
    "\n",
    "class Friend(Grandson):\n",
    "    def __init__(self):\n",
    "        print('Nothing!!')\n"
   ]
  },
  {
   "cell_type": "code",
   "execution_count": 55,
   "id": "84f65572-bcec-44ec-a8cb-d82312922257",
   "metadata": {},
   "outputs": [],
   "source": [
    "Divyansh = Grandfather()"
   ]
  },
  {
   "cell_type": "code",
   "execution_count": 56,
   "id": "d9297681-eaf1-4539-9535-f2c55b168b47",
   "metadata": {},
   "outputs": [
    {
     "name": "stdout",
     "output_type": "stream",
     "text": [
      "Land property!!\n"
     ]
    }
   ],
   "source": [
    "Divyansh.land_property()"
   ]
  },
  {
   "cell_type": "code",
   "execution_count": 57,
   "id": "50c7c296-bfef-4913-911b-8a3284c7c3c0",
   "metadata": {},
   "outputs": [],
   "source": [
    "aayush = Grandson()\n"
   ]
  },
  {
   "cell_type": "code",
   "execution_count": 58,
   "id": "a32fe257-23a0-4c31-9fdc-a18818fec421",
   "metadata": {},
   "outputs": [
    {
     "name": "stdout",
     "output_type": "stream",
     "text": [
      "Self Study\n"
     ]
    }
   ],
   "source": [
    "aayush.mind()"
   ]
  },
  {
   "cell_type": "code",
   "execution_count": 63,
   "id": "ce1908cd-aebb-4b6d-813a-d2cbcc5dd1f8",
   "metadata": {},
   "outputs": [],
   "source": [
    "class Hybrid_class(Mobile,Friend,AUDI):\n",
    "    def __init__(self):\n",
    "        print('This is a hybrid class')\n",
    "\n",
    "    def info(self):\n",
    "        print('it can call any methods!')\n",
    "        "
   ]
  },
  {
   "cell_type": "code",
   "execution_count": 66,
   "id": "854cd2ab-eff3-40eb-89ae-99da71003026",
   "metadata": {},
   "outputs": [
    {
     "name": "stdout",
     "output_type": "stream",
     "text": [
      "This is a hybrid class\n"
     ]
    }
   ],
   "source": [
    "Harshawardhan = Hybrid_class()"
   ]
  },
  {
   "cell_type": "code",
   "execution_count": 67,
   "id": "52585eb7-ac43-4228-b504-f276edde7b37",
   "metadata": {},
   "outputs": [
    {
     "name": "stdout",
     "output_type": "stream",
     "text": [
      "4K Camera\n"
     ]
    }
   ],
   "source": [
    "Harshawardhan.camera()\n"
   ]
  },
  {
   "cell_type": "code",
   "execution_count": 68,
   "id": "bd99397d-951d-4856-8eba-0e92a3889da1",
   "metadata": {},
   "outputs": [
    {
     "name": "stdout",
     "output_type": "stream",
     "text": [
      "Can run on Auto pilot Mode!!\n"
     ]
    }
   ],
   "source": [
    "Harshawardhan.auto_pilot()"
   ]
  },
  {
   "cell_type": "code",
   "execution_count": 69,
   "id": "9a8e95dc-e9a1-4bb0-b299-c1c771e238c6",
   "metadata": {},
   "outputs": [
    {
     "name": "stdout",
     "output_type": "stream",
     "text": [
      "it can call any methods!\n"
     ]
    }
   ],
   "source": [
    "Harshawardhan.info()"
   ]
  },
  {
   "cell_type": "code",
   "execution_count": 71,
   "id": "5f98f380-1081-479d-9efd-e03b2eafb443",
   "metadata": {},
   "outputs": [],
   "source": [
    "class UGC:\n",
    "\n",
    "    def __init__(self):\n",
    "        print('Grant Permission')\n",
    "    def college_approval(self):\n",
    "            print('College has been approved')\n",
    "\n",
    "class DU:\n",
    "    def multiple_colleges(self):\n",
    "        print('list of colleges!')\n",
    "\n",
    "class IPU:\n",
    "    def multiple_colleges(self):\n",
    "        print('List of colleges!')\n",
    "\n",
    "class BHU:\n",
    "    def multiple_colleges(self):\n",
    "        print('List of colleges!')\n",
    "        \n",
    "    \n",
    "        "
   ]
  },
  {
   "cell_type": "code",
   "execution_count": 72,
   "id": "374a7bfc-d3bf-4a9b-ba4d-ef51d14e5f26",
   "metadata": {},
   "outputs": [
    {
     "name": "stdout",
     "output_type": "stream",
     "text": [
      "579\n"
     ]
    }
   ],
   "source": [
    "a = 123\n",
    "b = 456\n",
    "print(a+b)"
   ]
  },
  {
   "cell_type": "code",
   "execution_count": 73,
   "id": "457f169e-5173-4472-9847-682007b27fd7",
   "metadata": {},
   "outputs": [
    {
     "name": "stdout",
     "output_type": "stream",
     "text": [
      "123456\n"
     ]
    }
   ],
   "source": [
    "a = '123'\n",
    "b = '456'\n",
    "print(a+b)"
   ]
  },
  {
   "cell_type": "code",
   "execution_count": 74,
   "id": "ccae407c-40bf-448b-adf2-f432044f35d6",
   "metadata": {},
   "outputs": [
    {
     "name": "stdout",
     "output_type": "stream",
     "text": [
      "['AMANVEER']\n"
     ]
    }
   ],
   "source": [
    "a = ['AMAN' + 'VEER']\n",
    "print(a)"
   ]
  },
  {
   "cell_type": "code",
   "execution_count": 75,
   "id": "841c5478-e67a-4cac-bf2c-3c79786e71ef",
   "metadata": {},
   "outputs": [
    {
     "name": "stdout",
     "output_type": "stream",
     "text": [
      "['AMANVEER']\n"
     ]
    }
   ],
   "source": [
    "a = ['AMAN'+'VEER']\n",
    "print(a)"
   ]
  },
  {
   "cell_type": "code",
   "execution_count": 76,
   "id": "ee66dec2-9d89-4446-8652-9b6607952567",
   "metadata": {},
   "outputs": [
    {
     "name": "stdout",
     "output_type": "stream",
     "text": [
      "AMANVEER\n"
     ]
    }
   ],
   "source": [
    "a = ('AMAN' + 'VEER')\n",
    "print(a)"
   ]
  },
  {
   "cell_type": "code",
   "execution_count": 77,
   "id": "9d736202-4c75-43fa-8183-b8d3fb6d649b",
   "metadata": {},
   "outputs": [
    {
     "ename": "NameError",
     "evalue": "name 'AMAN' is not defined",
     "output_type": "error",
     "traceback": [
      "\u001b[0;31m---------------------------------------------------------------------------\u001b[0m",
      "\u001b[0;31mNameError\u001b[0m                                 Traceback (most recent call last)",
      "Cell \u001b[0;32mIn[77], line 1\u001b[0m\n\u001b[0;32m----> 1\u001b[0m a \u001b[38;5;241m=\u001b[39m (AMAN\u001b[38;5;241m+\u001b[39mVEER)\n\u001b[1;32m      2\u001b[0m \u001b[38;5;28mprint\u001b[39m(a)\n",
      "\u001b[0;31mNameError\u001b[0m: name 'AMAN' is not defined"
     ]
    }
   ],
   "source": [
    "a = (AMAN+VEER)\n",
    "print(a)"
   ]
  },
  {
   "cell_type": "code",
   "execution_count": 78,
   "id": "5c391362-6555-4c72-8726-a423e5acf8a3",
   "metadata": {},
   "outputs": [
    {
     "name": "stdout",
     "output_type": "stream",
     "text": [
      "45 <class 'str'>\n"
     ]
    }
   ],
   "source": [
    "a = 45\n",
    "a = '45'\n",
    "print(a,type(a))"
   ]
  },
  {
   "cell_type": "code",
   "execution_count": 87,
   "id": "6499639d-ae40-4dff-b72a-584bbfd14904",
   "metadata": {},
   "outputs": [
    {
     "name": "stdout",
     "output_type": "stream",
     "text": [
      "F1 Car Speed:  Max speed 200 km/hr\n",
      "F1 Car Speed:  Max speed 250 km/hr\n",
      "F1 Car Speed:  Max speed 300 km/hr\n"
     ]
    }
   ],
   "source": [
    "class Car:\n",
    "  def speed(self):\n",
    "    return('Max speed 200 km/hr')\n",
    "\n",
    "  def auto_pilot(self):\n",
    "    return('It supports Auto Pilot Mode!!')\n",
    "\n",
    "  def info(self):\n",
    "    return('This is just a car object')\n",
    "\n",
    "\n",
    "class Bmw(Car):\n",
    "  def speed(self):\n",
    "    return('Max speed 250 km/hr')\n",
    "\n",
    "  def info(self):\n",
    "    return('A BMW car object')\n",
    "\n",
    "\n",
    "\n",
    "class Audi(Car):\n",
    "  def speed(self):\n",
    "    return('Max speed 300 km/hr')\n",
    "\n",
    "  def info(self):\n",
    "    return('Audi car')\n",
    "\n",
    "\n",
    "for i in [Car,Bmw,Audi]:\n",
    "    F1 = i()\n",
    "    print('F1 Car Speed: ',F1.speed())\n",
    "    \n"
   ]
  },
  {
   "cell_type": "code",
   "execution_count": 91,
   "id": "f744fd92-1c17-4941-b788-d2475c1a15ef",
   "metadata": {},
   "outputs": [
    {
     "name": "stdout",
     "output_type": "stream",
     "text": [
      "Max speed 250 km/hr\n"
     ]
    }
   ],
   "source": [
    "F1 = Bmw()\n",
    "print(F1.speed())"
   ]
  },
  {
   "cell_type": "code",
   "execution_count": 92,
   "id": "5a73eed0-9e62-41de-aac6-7ff9003b7b12",
   "metadata": {},
   "outputs": [
    {
     "name": "stdout",
     "output_type": "stream",
     "text": [
      "aayush\n"
     ]
    }
   ],
   "source": [
    "print('aayush')"
   ]
  },
  {
   "cell_type": "code",
   "execution_count": 116,
   "id": "07c4134c-0444-434b-bfb8-b3bca5676ff0",
   "metadata": {},
   "outputs": [
    {
     "name": "stdout",
     "output_type": "stream",
     "text": [
      "Ram Ram Divyansh Choudhary,ke haal hai??\n",
      "Thara address is Haryana\n"
     ]
    }
   ],
   "source": [
    "class IITM:\n",
    "\n",
    "    def intro(self):\n",
    "        print('Hello Candidates')\n",
    "\n",
    "    def intro(self,name):\n",
    "        print(f'Ram Ram {name}, Ke haal hai??')\n",
    "\n",
    "\n",
    "    def intro(self,name,address):\n",
    "        print(f'Ram Ram {name},ke haal hai??')\n",
    "        print(f'Thara address is {address}')\n",
    "\n",
    "a = IITM()\n",
    "        \n",
    "a.intro('Divyansh Choudhary','Haryana')\n"
   ]
  },
  {
   "cell_type": "code",
   "execution_count": 149,
   "id": "ec819d79-1f14-4b09-b169-ff87c6da9ab6",
   "metadata": {},
   "outputs": [
    {
     "ename": "SyntaxError",
     "evalue": "invalid syntax (4098141486.py, line 14)",
     "output_type": "error",
     "traceback": [
      "\u001b[0;36m  Cell \u001b[0;32mIn[149], line 14\u001b[0;36m\u001b[0m\n\u001b[0;31m    elif (name ! = None) and (address ! = None):\u001b[0m\n\u001b[0m    ^\u001b[0m\n\u001b[0;31mSyntaxError\u001b[0m\u001b[0;31m:\u001b[0m invalid syntax\n"
     ]
    }
   ],
   "source": [
    "class IITM:\n",
    "\n",
    "    def intro(self):\n",
    "        print('Hello Candidates')\n",
    "\n",
    "    def intro(self,name):\n",
    "        print(f'Ram Ram {name}, Ke haal hai??')\n",
    "\n",
    "\n",
    "    def intro(self,name,address):\n",
    "        print(f'Ram Ram {name},ke haal hai??')\n",
    "        print(f'Thara address is {address}') \n",
    "        \n",
    "    elif (name ! = None) and (address ! = None):\n",
    "    print(f'Ram Ram {name},ke haal hai??')\n",
    "    print(f'Thara address is {address}')\n",
    "    print('Hello Buddy')\n",
    "\n",
    "\n"
   ]
  },
  {
   "cell_type": "code",
   "execution_count": 150,
   "id": "1886afd9-dc35-4cf5-a44b-3addb1748716",
   "metadata": {},
   "outputs": [
    {
     "name": "stdout",
     "output_type": "stream",
     "text": [
      "Ram Ram laddar!!\n",
      "Ram Ram Harshwardhan Ke Haal Hai?\n",
      " Tu Rheya Kare Rani Bagh me!!\n",
      "Ram Ram Harshwardhan Ke Haal Hai? \n",
      " Tu Rheya Kare Rani Bagh!!\n"
     ]
    }
   ],
   "source": [
    "class IITM:\n",
    "\n",
    "    def intro(Self,name=None,address=None):\n",
    "        if name==None and address == None:\n",
    "            print(\"Ram Ram laddar!!\")\n",
    "        elif name!=None and address==None:\n",
    "            print(f\"Ram Ram {name} Ke Haal Hai?\")\n",
    "        elif name==None and address != None:\n",
    "            print(f\" Tu Rheya Kare {address} me!!\")\n",
    "        elif name!=None and address != None:\n",
    "            print(f\"Ram Ram {name} Ke Haal Hai? \\n Tu Rheya Kare {address}!!\")\n",
    "        else:\n",
    "            print(\"Ram Ram Buddy\")\n",
    "\n",
    "\n",
    "a = IITM()\n",
    "\n",
    "# No argument\n",
    "a.intro()\n",
    "\n",
    "#name argument\n",
    "a.intro(name=\"Harshwardhan\")\n",
    "\n",
    "\n",
    "a.intro(address = \"Rani Bagh\")\n",
    "\n",
    "\n",
    "a.intro(name=\"Harshwardhan\",address=\"Rani Bagh\")"
   ]
  },
  {
   "cell_type": "code",
   "execution_count": 158,
   "id": "d2e97276-dba6-452b-994d-fb72a906dca2",
   "metadata": {},
   "outputs": [
    {
     "name": "stdout",
     "output_type": "stream",
     "text": [
      "Done\n"
     ]
    }
   ],
   "source": [
    "from abc import ABC, abstractmethod\n",
    "\n",
    "class Website:\n",
    "    def login(self):\n",
    "        print('This is a login method')\n",
    "\n",
    "    def logout(self):\n",
    "        print('A logout method')\n",
    "        \n",
    "asus = Website()\n",
    "print('Done')"
   ]
  },
  {
   "cell_type": "code",
   "execution_count": 176,
   "id": "6976e4ef-f5db-4088-9f0b-353ed0bb745f",
   "metadata": {},
   "outputs": [
    {
     "name": "stdout",
     "output_type": "stream",
     "text": [
      "Done\n"
     ]
    }
   ],
   "source": [
    "class Nakul(Website):\n",
    "\n",
    "    def signup(self):\n",
    "        print('user can Signup!!')\n",
    "\n",
    "    def login(self):\n",
    "        print('user can login')\n",
    "\n",
    "    def logout(self):\n",
    "        print('user log out')\n",
    "        \n",
    "\n",
    "google = Nakul()\n",
    "print('Done')"
   ]
  },
  {
   "cell_type": "code",
   "execution_count": 177,
   "id": "8d054728-9f98-42ba-bdb0-d21add355f7a",
   "metadata": {},
   "outputs": [
    {
     "name": "stdout",
     "output_type": "stream",
     "text": [
      "user can login\n"
     ]
    }
   ],
   "source": [
    "google.login()"
   ]
  },
  {
   "cell_type": "code",
   "execution_count": 178,
   "id": "c907f932-4f55-4937-8fc1-40df69926d77",
   "metadata": {},
   "outputs": [
    {
     "name": "stdout",
     "output_type": "stream",
     "text": [
      "user log out\n"
     ]
    }
   ],
   "source": [
    "google.logout()\n"
   ]
  },
  {
   "cell_type": "code",
   "execution_count": 179,
   "id": "6f4e0fa4-d8fe-4e94-ad4a-3fd2eaf32eaf",
   "metadata": {},
   "outputs": [
    {
     "name": "stdout",
     "output_type": "stream",
     "text": [
      "user log out\n"
     ]
    }
   ],
   "source": [
    "google.logout()"
   ]
  },
  {
   "cell_type": "code",
   "execution_count": 180,
   "id": "a303ac1e-88c9-40f1-8471-afee2a34bc9a",
   "metadata": {},
   "outputs": [
    {
     "name": "stdout",
     "output_type": "stream",
     "text": [
      "user can Signup!!\n"
     ]
    }
   ],
   "source": [
    "google.signup()"
   ]
  },
  {
   "cell_type": "code",
   "execution_count": null,
   "id": "390bb302-4e63-4eb9-a219-bdcdfb889490",
   "metadata": {},
   "outputs": [],
   "source": []
  }
 ],
 "metadata": {
  "kernelspec": {
   "display_name": "Python [conda env:base] *",
   "language": "python",
   "name": "conda-base-py"
  },
  "language_info": {
   "codemirror_mode": {
    "name": "ipython",
    "version": 3
   },
   "file_extension": ".py",
   "mimetype": "text/x-python",
   "name": "python",
   "nbconvert_exporter": "python",
   "pygments_lexer": "ipython3",
   "version": "3.13.5"
  }
 },
 "nbformat": 4,
 "nbformat_minor": 5
}
