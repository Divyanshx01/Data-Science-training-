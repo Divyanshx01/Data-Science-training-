{
 "cells": [
  {
   "cell_type": "code",
   "execution_count": 1,
   "id": "f4c299fb-392d-42d8-aca0-fb686571c459",
   "metadata": {},
   "outputs": [
    {
     "name": "stdout",
     "output_type": "stream",
     "text": [
      "Requirement already satisfied: kagglehub in /opt/anaconda3/lib/python3.13/site-packages (0.3.12)\n",
      "Requirement already satisfied: packaging in /opt/anaconda3/lib/python3.13/site-packages (from kagglehub) (24.2)\n",
      "Requirement already satisfied: pyyaml in /opt/anaconda3/lib/python3.13/site-packages (from kagglehub) (6.0.2)\n",
      "Requirement already satisfied: requests in /opt/anaconda3/lib/python3.13/site-packages (from kagglehub) (2.32.3)\n",
      "Requirement already satisfied: tqdm in /opt/anaconda3/lib/python3.13/site-packages (from kagglehub) (4.67.1)\n",
      "Requirement already satisfied: charset-normalizer<4,>=2 in /opt/anaconda3/lib/python3.13/site-packages (from requests->kagglehub) (3.3.2)\n",
      "Requirement already satisfied: idna<4,>=2.5 in /opt/anaconda3/lib/python3.13/site-packages (from requests->kagglehub) (3.7)\n",
      "Requirement already satisfied: urllib3<3,>=1.21.1 in /opt/anaconda3/lib/python3.13/site-packages (from requests->kagglehub) (2.3.0)\n",
      "Requirement already satisfied: certifi>=2017.4.17 in /opt/anaconda3/lib/python3.13/site-packages (from requests->kagglehub) (2025.6.15)\n",
      "Note: you may need to restart the kernel to use updated packages.\n"
     ]
    }
   ],
   "source": [
    "pip install kagglehub"
   ]
  },
  {
   "cell_type": "code",
   "execution_count": 3,
   "id": "70b2c2eb-7aa6-4eb4-9dcc-d2b67f6741ad",
   "metadata": {},
   "outputs": [
    {
     "name": "stdout",
     "output_type": "stream",
     "text": [
      "Path to dataset files: /Users/divyanshchoudhary/.cache/kagglehub/datasets/manishkr1754/cardekho-used-car-data/versions/2\n"
     ]
    }
   ],
   "source": [
    "import kagglehub\n",
    "\n",
    "# Download latest version\n",
    "path = kagglehub.dataset_download(\"manishkr1754/cardekho-used-car-data\")\n",
    "\n",
    "print(\"Path to dataset files:\", path)"
   ]
  },
  {
   "cell_type": "code",
   "execution_count": 4,
   "id": "b3a9a456-acf2-46c0-bf10-f11c4bb7ad37",
   "metadata": {},
   "outputs": [
    {
     "data": {
      "text/plain": [
       "['cardekho_dataset.csv']"
      ]
     },
     "execution_count": 4,
     "metadata": {},
     "output_type": "execute_result"
    }
   ],
   "source": [
    "import os\n",
    "all_files = os.listdir(path)\n",
    "all_files"
   ]
  },
  {
   "cell_type": "code",
   "execution_count": 9,
   "id": "962cebc8-e652-42cb-b099-43faa5558b5f",
   "metadata": {},
   "outputs": [
    {
     "data": {
      "text/plain": [
       "'/Users/divyanshchoudhary/.cache/kagglehub/datasets/manishkr1754/cardekho-used-car-data/versions/2/cardekho_dataset.csv'"
      ]
     },
     "execution_count": 9,
     "metadata": {},
     "output_type": "execute_result"
    }
   ],
   "source": [
    "file_path = path + '/'+ all_files[0]\n",
    "file_path"
   ]
  },
  {
   "cell_type": "code",
   "execution_count": 10,
   "id": "5cbc7b87-da3e-4136-9b0a-1483636f65e1",
   "metadata": {},
   "outputs": [
    {
     "name": "stdout",
     "output_type": "stream",
     "text": [
      "File Loaded Successfully!!\n"
     ]
    }
   ],
   "source": [
    "import pandas as pd\n",
    "df = pd.read_csv(file_path)\n",
    "print('File Loaded Successfully!!')"
   ]
  },
  {
   "cell_type": "code",
   "execution_count": 11,
   "id": "22ac18d8-77cf-407e-9e74-e0ffd2e84118",
   "metadata": {},
   "outputs": [
    {
     "data": {
      "text/html": [
       "<div>\n",
       "<style scoped>\n",
       "    .dataframe tbody tr th:only-of-type {\n",
       "        vertical-align: middle;\n",
       "    }\n",
       "\n",
       "    .dataframe tbody tr th {\n",
       "        vertical-align: top;\n",
       "    }\n",
       "\n",
       "    .dataframe thead th {\n",
       "        text-align: right;\n",
       "    }\n",
       "</style>\n",
       "<table border=\"1\" class=\"dataframe\">\n",
       "  <thead>\n",
       "    <tr style=\"text-align: right;\">\n",
       "      <th></th>\n",
       "      <th>Unnamed: 0</th>\n",
       "      <th>car_name</th>\n",
       "      <th>brand</th>\n",
       "      <th>model</th>\n",
       "      <th>vehicle_age</th>\n",
       "      <th>km_driven</th>\n",
       "      <th>seller_type</th>\n",
       "      <th>fuel_type</th>\n",
       "      <th>transmission_type</th>\n",
       "      <th>mileage</th>\n",
       "      <th>engine</th>\n",
       "      <th>max_power</th>\n",
       "      <th>seats</th>\n",
       "      <th>selling_price</th>\n",
       "    </tr>\n",
       "  </thead>\n",
       "  <tbody>\n",
       "    <tr>\n",
       "      <th>0</th>\n",
       "      <td>0</td>\n",
       "      <td>Maruti Alto</td>\n",
       "      <td>Maruti</td>\n",
       "      <td>Alto</td>\n",
       "      <td>9</td>\n",
       "      <td>120000</td>\n",
       "      <td>Individual</td>\n",
       "      <td>Petrol</td>\n",
       "      <td>Manual</td>\n",
       "      <td>19.70</td>\n",
       "      <td>796</td>\n",
       "      <td>46.30</td>\n",
       "      <td>5</td>\n",
       "      <td>120000</td>\n",
       "    </tr>\n",
       "    <tr>\n",
       "      <th>1</th>\n",
       "      <td>1</td>\n",
       "      <td>Hyundai Grand</td>\n",
       "      <td>Hyundai</td>\n",
       "      <td>Grand</td>\n",
       "      <td>5</td>\n",
       "      <td>20000</td>\n",
       "      <td>Individual</td>\n",
       "      <td>Petrol</td>\n",
       "      <td>Manual</td>\n",
       "      <td>18.90</td>\n",
       "      <td>1197</td>\n",
       "      <td>82.00</td>\n",
       "      <td>5</td>\n",
       "      <td>550000</td>\n",
       "    </tr>\n",
       "    <tr>\n",
       "      <th>2</th>\n",
       "      <td>2</td>\n",
       "      <td>Hyundai i20</td>\n",
       "      <td>Hyundai</td>\n",
       "      <td>i20</td>\n",
       "      <td>11</td>\n",
       "      <td>60000</td>\n",
       "      <td>Individual</td>\n",
       "      <td>Petrol</td>\n",
       "      <td>Manual</td>\n",
       "      <td>17.00</td>\n",
       "      <td>1197</td>\n",
       "      <td>80.00</td>\n",
       "      <td>5</td>\n",
       "      <td>215000</td>\n",
       "    </tr>\n",
       "    <tr>\n",
       "      <th>3</th>\n",
       "      <td>3</td>\n",
       "      <td>Maruti Alto</td>\n",
       "      <td>Maruti</td>\n",
       "      <td>Alto</td>\n",
       "      <td>9</td>\n",
       "      <td>37000</td>\n",
       "      <td>Individual</td>\n",
       "      <td>Petrol</td>\n",
       "      <td>Manual</td>\n",
       "      <td>20.92</td>\n",
       "      <td>998</td>\n",
       "      <td>67.10</td>\n",
       "      <td>5</td>\n",
       "      <td>226000</td>\n",
       "    </tr>\n",
       "    <tr>\n",
       "      <th>4</th>\n",
       "      <td>4</td>\n",
       "      <td>Ford Ecosport</td>\n",
       "      <td>Ford</td>\n",
       "      <td>Ecosport</td>\n",
       "      <td>6</td>\n",
       "      <td>30000</td>\n",
       "      <td>Dealer</td>\n",
       "      <td>Diesel</td>\n",
       "      <td>Manual</td>\n",
       "      <td>22.77</td>\n",
       "      <td>1498</td>\n",
       "      <td>98.59</td>\n",
       "      <td>5</td>\n",
       "      <td>570000</td>\n",
       "    </tr>\n",
       "    <tr>\n",
       "      <th>...</th>\n",
       "      <td>...</td>\n",
       "      <td>...</td>\n",
       "      <td>...</td>\n",
       "      <td>...</td>\n",
       "      <td>...</td>\n",
       "      <td>...</td>\n",
       "      <td>...</td>\n",
       "      <td>...</td>\n",
       "      <td>...</td>\n",
       "      <td>...</td>\n",
       "      <td>...</td>\n",
       "      <td>...</td>\n",
       "      <td>...</td>\n",
       "      <td>...</td>\n",
       "    </tr>\n",
       "    <tr>\n",
       "      <th>15406</th>\n",
       "      <td>19537</td>\n",
       "      <td>Hyundai i10</td>\n",
       "      <td>Hyundai</td>\n",
       "      <td>i10</td>\n",
       "      <td>9</td>\n",
       "      <td>10723</td>\n",
       "      <td>Dealer</td>\n",
       "      <td>Petrol</td>\n",
       "      <td>Manual</td>\n",
       "      <td>19.81</td>\n",
       "      <td>1086</td>\n",
       "      <td>68.05</td>\n",
       "      <td>5</td>\n",
       "      <td>250000</td>\n",
       "    </tr>\n",
       "    <tr>\n",
       "      <th>15407</th>\n",
       "      <td>19540</td>\n",
       "      <td>Maruti Ertiga</td>\n",
       "      <td>Maruti</td>\n",
       "      <td>Ertiga</td>\n",
       "      <td>2</td>\n",
       "      <td>18000</td>\n",
       "      <td>Dealer</td>\n",
       "      <td>Petrol</td>\n",
       "      <td>Manual</td>\n",
       "      <td>17.50</td>\n",
       "      <td>1373</td>\n",
       "      <td>91.10</td>\n",
       "      <td>7</td>\n",
       "      <td>925000</td>\n",
       "    </tr>\n",
       "    <tr>\n",
       "      <th>15408</th>\n",
       "      <td>19541</td>\n",
       "      <td>Skoda Rapid</td>\n",
       "      <td>Skoda</td>\n",
       "      <td>Rapid</td>\n",
       "      <td>6</td>\n",
       "      <td>67000</td>\n",
       "      <td>Dealer</td>\n",
       "      <td>Diesel</td>\n",
       "      <td>Manual</td>\n",
       "      <td>21.14</td>\n",
       "      <td>1498</td>\n",
       "      <td>103.52</td>\n",
       "      <td>5</td>\n",
       "      <td>425000</td>\n",
       "    </tr>\n",
       "    <tr>\n",
       "      <th>15409</th>\n",
       "      <td>19542</td>\n",
       "      <td>Mahindra XUV500</td>\n",
       "      <td>Mahindra</td>\n",
       "      <td>XUV500</td>\n",
       "      <td>5</td>\n",
       "      <td>3800000</td>\n",
       "      <td>Dealer</td>\n",
       "      <td>Diesel</td>\n",
       "      <td>Manual</td>\n",
       "      <td>16.00</td>\n",
       "      <td>2179</td>\n",
       "      <td>140.00</td>\n",
       "      <td>7</td>\n",
       "      <td>1225000</td>\n",
       "    </tr>\n",
       "    <tr>\n",
       "      <th>15410</th>\n",
       "      <td>19543</td>\n",
       "      <td>Honda City</td>\n",
       "      <td>Honda</td>\n",
       "      <td>City</td>\n",
       "      <td>2</td>\n",
       "      <td>13000</td>\n",
       "      <td>Dealer</td>\n",
       "      <td>Petrol</td>\n",
       "      <td>Automatic</td>\n",
       "      <td>18.00</td>\n",
       "      <td>1497</td>\n",
       "      <td>117.60</td>\n",
       "      <td>5</td>\n",
       "      <td>1200000</td>\n",
       "    </tr>\n",
       "  </tbody>\n",
       "</table>\n",
       "<p>15411 rows × 14 columns</p>\n",
       "</div>"
      ],
      "text/plain": [
       "       Unnamed: 0         car_name     brand     model  vehicle_age  \\\n",
       "0               0      Maruti Alto    Maruti      Alto            9   \n",
       "1               1    Hyundai Grand   Hyundai     Grand            5   \n",
       "2               2      Hyundai i20   Hyundai       i20           11   \n",
       "3               3      Maruti Alto    Maruti      Alto            9   \n",
       "4               4    Ford Ecosport      Ford  Ecosport            6   \n",
       "...           ...              ...       ...       ...          ...   \n",
       "15406       19537      Hyundai i10   Hyundai       i10            9   \n",
       "15407       19540    Maruti Ertiga    Maruti    Ertiga            2   \n",
       "15408       19541      Skoda Rapid     Skoda     Rapid            6   \n",
       "15409       19542  Mahindra XUV500  Mahindra    XUV500            5   \n",
       "15410       19543       Honda City     Honda      City            2   \n",
       "\n",
       "       km_driven seller_type fuel_type transmission_type  mileage  engine  \\\n",
       "0         120000  Individual    Petrol            Manual    19.70     796   \n",
       "1          20000  Individual    Petrol            Manual    18.90    1197   \n",
       "2          60000  Individual    Petrol            Manual    17.00    1197   \n",
       "3          37000  Individual    Petrol            Manual    20.92     998   \n",
       "4          30000      Dealer    Diesel            Manual    22.77    1498   \n",
       "...          ...         ...       ...               ...      ...     ...   \n",
       "15406      10723      Dealer    Petrol            Manual    19.81    1086   \n",
       "15407      18000      Dealer    Petrol            Manual    17.50    1373   \n",
       "15408      67000      Dealer    Diesel            Manual    21.14    1498   \n",
       "15409    3800000      Dealer    Diesel            Manual    16.00    2179   \n",
       "15410      13000      Dealer    Petrol         Automatic    18.00    1497   \n",
       "\n",
       "       max_power  seats  selling_price  \n",
       "0          46.30      5         120000  \n",
       "1          82.00      5         550000  \n",
       "2          80.00      5         215000  \n",
       "3          67.10      5         226000  \n",
       "4          98.59      5         570000  \n",
       "...          ...    ...            ...  \n",
       "15406      68.05      5         250000  \n",
       "15407      91.10      7         925000  \n",
       "15408     103.52      5         425000  \n",
       "15409     140.00      7        1225000  \n",
       "15410     117.60      5        1200000  \n",
       "\n",
       "[15411 rows x 14 columns]"
      ]
     },
     "execution_count": 11,
     "metadata": {},
     "output_type": "execute_result"
    }
   ],
   "source": [
    "df"
   ]
  },
  {
   "cell_type": "code",
   "execution_count": 13,
   "id": "ea6af71f-fb72-429e-ab94-75f3351ab3b1",
   "metadata": {},
   "outputs": [
    {
     "name": "stdout",
     "output_type": "stream",
     "text": [
      "<class 'pandas.core.frame.DataFrame'>\n",
      "RangeIndex: 15411 entries, 0 to 15410\n",
      "Data columns (total 14 columns):\n",
      " #   Column             Non-Null Count  Dtype  \n",
      "---  ------             --------------  -----  \n",
      " 0   Unnamed: 0         15411 non-null  int64  \n",
      " 1   car_name           15411 non-null  object \n",
      " 2   brand              15411 non-null  object \n",
      " 3   model              15411 non-null  object \n",
      " 4   vehicle_age        15411 non-null  int64  \n",
      " 5   km_driven          15411 non-null  int64  \n",
      " 6   seller_type        15411 non-null  object \n",
      " 7   fuel_type          15411 non-null  object \n",
      " 8   transmission_type  15411 non-null  object \n",
      " 9   mileage            15411 non-null  float64\n",
      " 10  engine             15411 non-null  int64  \n",
      " 11  max_power          15411 non-null  float64\n",
      " 12  seats              15411 non-null  int64  \n",
      " 13  selling_price      15411 non-null  int64  \n",
      "dtypes: float64(2), int64(6), object(6)\n",
      "memory usage: 1.6+ MB\n"
     ]
    }
   ],
   "source": [
    "df.info()"
   ]
  },
  {
   "cell_type": "code",
   "execution_count": 15,
   "id": "4e5886e8-b1f2-4687-8b3d-74561f0d8bb7",
   "metadata": {},
   "outputs": [
    {
     "name": "stdout",
     "output_type": "stream",
     "text": [
      "Dataset contains\n",
      "Rows:15411\n",
      "Columns:14\n"
     ]
    }
   ],
   "source": [
    "r,c = df.shape \n",
    "print(f'''Dataset contains\n",
    "Rows:{r}\n",
    "Columns:{c}''')"
   ]
  },
  {
   "cell_type": "code",
   "execution_count": 16,
   "id": "de4f7d54-67ce-4e6a-b7f1-706530e00cb4",
   "metadata": {},
   "outputs": [
    {
     "data": {
      "text/plain": [
       "Index(['Unnamed: 0', 'car_name', 'brand', 'model', 'vehicle_age', 'km_driven',\n",
       "       'seller_type', 'fuel_type', 'transmission_type', 'mileage', 'engine',\n",
       "       'max_power', 'seats', 'selling_price'],\n",
       "      dtype='object')"
      ]
     },
     "execution_count": 16,
     "metadata": {},
     "output_type": "execute_result"
    }
   ],
   "source": [
    "df.columns"
   ]
  },
  {
   "cell_type": "code",
   "execution_count": 25,
   "id": "ddff8b03-8e00-4c32-b3db-967c6080aa11",
   "metadata": {},
   "outputs": [],
   "source": [
    "df.drop('Unnamed: 0',axis = 1,inplace = True)"
   ]
  },
  {
   "cell_type": "code",
   "execution_count": 26,
   "id": "97e8d190-ecf7-49f0-8862-191cef799d14",
   "metadata": {},
   "outputs": [
    {
     "data": {
      "text/plain": [
       "RangeIndex(start=0, stop=15411, step=1)"
      ]
     },
     "execution_count": 26,
     "metadata": {},
     "output_type": "execute_result"
    }
   ],
   "source": [
    "df.index"
   ]
  },
  {
   "cell_type": "code",
   "execution_count": 28,
   "id": "b4ab7e48-e373-4be7-9ab4-dd6f2900067a",
   "metadata": {},
   "outputs": [
    {
     "data": {
      "text/html": [
       "<div>\n",
       "<style scoped>\n",
       "    .dataframe tbody tr th:only-of-type {\n",
       "        vertical-align: middle;\n",
       "    }\n",
       "\n",
       "    .dataframe tbody tr th {\n",
       "        vertical-align: top;\n",
       "    }\n",
       "\n",
       "    .dataframe thead th {\n",
       "        text-align: right;\n",
       "    }\n",
       "</style>\n",
       "<table border=\"1\" class=\"dataframe\">\n",
       "  <thead>\n",
       "    <tr style=\"text-align: right;\">\n",
       "      <th></th>\n",
       "      <th>car_name</th>\n",
       "      <th>brand</th>\n",
       "      <th>model</th>\n",
       "      <th>vehicle_age</th>\n",
       "      <th>km_driven</th>\n",
       "      <th>seller_type</th>\n",
       "      <th>fuel_type</th>\n",
       "      <th>transmission_type</th>\n",
       "      <th>mileage</th>\n",
       "      <th>engine</th>\n",
       "      <th>max_power</th>\n",
       "      <th>seats</th>\n",
       "      <th>selling_price</th>\n",
       "    </tr>\n",
       "  </thead>\n",
       "  <tbody>\n",
       "    <tr>\n",
       "      <th>0</th>\n",
       "      <td>Maruti Alto</td>\n",
       "      <td>Maruti</td>\n",
       "      <td>Alto</td>\n",
       "      <td>9</td>\n",
       "      <td>120000</td>\n",
       "      <td>Individual</td>\n",
       "      <td>Petrol</td>\n",
       "      <td>Manual</td>\n",
       "      <td>19.70</td>\n",
       "      <td>796</td>\n",
       "      <td>46.30</td>\n",
       "      <td>5</td>\n",
       "      <td>120000</td>\n",
       "    </tr>\n",
       "    <tr>\n",
       "      <th>1</th>\n",
       "      <td>Hyundai Grand</td>\n",
       "      <td>Hyundai</td>\n",
       "      <td>Grand</td>\n",
       "      <td>5</td>\n",
       "      <td>20000</td>\n",
       "      <td>Individual</td>\n",
       "      <td>Petrol</td>\n",
       "      <td>Manual</td>\n",
       "      <td>18.90</td>\n",
       "      <td>1197</td>\n",
       "      <td>82.00</td>\n",
       "      <td>5</td>\n",
       "      <td>550000</td>\n",
       "    </tr>\n",
       "    <tr>\n",
       "      <th>2</th>\n",
       "      <td>Hyundai i20</td>\n",
       "      <td>Hyundai</td>\n",
       "      <td>i20</td>\n",
       "      <td>11</td>\n",
       "      <td>60000</td>\n",
       "      <td>Individual</td>\n",
       "      <td>Petrol</td>\n",
       "      <td>Manual</td>\n",
       "      <td>17.00</td>\n",
       "      <td>1197</td>\n",
       "      <td>80.00</td>\n",
       "      <td>5</td>\n",
       "      <td>215000</td>\n",
       "    </tr>\n",
       "    <tr>\n",
       "      <th>3</th>\n",
       "      <td>Maruti Alto</td>\n",
       "      <td>Maruti</td>\n",
       "      <td>Alto</td>\n",
       "      <td>9</td>\n",
       "      <td>37000</td>\n",
       "      <td>Individual</td>\n",
       "      <td>Petrol</td>\n",
       "      <td>Manual</td>\n",
       "      <td>20.92</td>\n",
       "      <td>998</td>\n",
       "      <td>67.10</td>\n",
       "      <td>5</td>\n",
       "      <td>226000</td>\n",
       "    </tr>\n",
       "    <tr>\n",
       "      <th>4</th>\n",
       "      <td>Ford Ecosport</td>\n",
       "      <td>Ford</td>\n",
       "      <td>Ecosport</td>\n",
       "      <td>6</td>\n",
       "      <td>30000</td>\n",
       "      <td>Dealer</td>\n",
       "      <td>Diesel</td>\n",
       "      <td>Manual</td>\n",
       "      <td>22.77</td>\n",
       "      <td>1498</td>\n",
       "      <td>98.59</td>\n",
       "      <td>5</td>\n",
       "      <td>570000</td>\n",
       "    </tr>\n",
       "  </tbody>\n",
       "</table>\n",
       "</div>"
      ],
      "text/plain": [
       "        car_name    brand     model  vehicle_age  km_driven seller_type  \\\n",
       "0    Maruti Alto   Maruti      Alto            9     120000  Individual   \n",
       "1  Hyundai Grand  Hyundai     Grand            5      20000  Individual   \n",
       "2    Hyundai i20  Hyundai       i20           11      60000  Individual   \n",
       "3    Maruti Alto   Maruti      Alto            9      37000  Individual   \n",
       "4  Ford Ecosport     Ford  Ecosport            6      30000      Dealer   \n",
       "\n",
       "  fuel_type transmission_type  mileage  engine  max_power  seats  \\\n",
       "0    Petrol            Manual    19.70     796      46.30      5   \n",
       "1    Petrol            Manual    18.90    1197      82.00      5   \n",
       "2    Petrol            Manual    17.00    1197      80.00      5   \n",
       "3    Petrol            Manual    20.92     998      67.10      5   \n",
       "4    Diesel            Manual    22.77    1498      98.59      5   \n",
       "\n",
       "   selling_price  \n",
       "0         120000  \n",
       "1         550000  \n",
       "2         215000  \n",
       "3         226000  \n",
       "4         570000  "
      ]
     },
     "execution_count": 28,
     "metadata": {},
     "output_type": "execute_result"
    }
   ],
   "source": [
    "df.head()"
   ]
  },
  {
   "cell_type": "code",
   "execution_count": 29,
   "id": "e690064c-b7ab-467d-b5a6-6e0ff46caca2",
   "metadata": {},
   "outputs": [
    {
     "data": {
      "text/html": [
       "<div>\n",
       "<style scoped>\n",
       "    .dataframe tbody tr th:only-of-type {\n",
       "        vertical-align: middle;\n",
       "    }\n",
       "\n",
       "    .dataframe tbody tr th {\n",
       "        vertical-align: top;\n",
       "    }\n",
       "\n",
       "    .dataframe thead th {\n",
       "        text-align: right;\n",
       "    }\n",
       "</style>\n",
       "<table border=\"1\" class=\"dataframe\">\n",
       "  <thead>\n",
       "    <tr style=\"text-align: right;\">\n",
       "      <th></th>\n",
       "      <th>car_name</th>\n",
       "      <th>brand</th>\n",
       "      <th>model</th>\n",
       "      <th>vehicle_age</th>\n",
       "      <th>km_driven</th>\n",
       "      <th>seller_type</th>\n",
       "      <th>fuel_type</th>\n",
       "      <th>transmission_type</th>\n",
       "      <th>mileage</th>\n",
       "      <th>engine</th>\n",
       "      <th>max_power</th>\n",
       "      <th>seats</th>\n",
       "      <th>selling_price</th>\n",
       "    </tr>\n",
       "  </thead>\n",
       "  <tbody>\n",
       "    <tr>\n",
       "      <th>15406</th>\n",
       "      <td>Hyundai i10</td>\n",
       "      <td>Hyundai</td>\n",
       "      <td>i10</td>\n",
       "      <td>9</td>\n",
       "      <td>10723</td>\n",
       "      <td>Dealer</td>\n",
       "      <td>Petrol</td>\n",
       "      <td>Manual</td>\n",
       "      <td>19.81</td>\n",
       "      <td>1086</td>\n",
       "      <td>68.05</td>\n",
       "      <td>5</td>\n",
       "      <td>250000</td>\n",
       "    </tr>\n",
       "    <tr>\n",
       "      <th>15407</th>\n",
       "      <td>Maruti Ertiga</td>\n",
       "      <td>Maruti</td>\n",
       "      <td>Ertiga</td>\n",
       "      <td>2</td>\n",
       "      <td>18000</td>\n",
       "      <td>Dealer</td>\n",
       "      <td>Petrol</td>\n",
       "      <td>Manual</td>\n",
       "      <td>17.50</td>\n",
       "      <td>1373</td>\n",
       "      <td>91.10</td>\n",
       "      <td>7</td>\n",
       "      <td>925000</td>\n",
       "    </tr>\n",
       "    <tr>\n",
       "      <th>15408</th>\n",
       "      <td>Skoda Rapid</td>\n",
       "      <td>Skoda</td>\n",
       "      <td>Rapid</td>\n",
       "      <td>6</td>\n",
       "      <td>67000</td>\n",
       "      <td>Dealer</td>\n",
       "      <td>Diesel</td>\n",
       "      <td>Manual</td>\n",
       "      <td>21.14</td>\n",
       "      <td>1498</td>\n",
       "      <td>103.52</td>\n",
       "      <td>5</td>\n",
       "      <td>425000</td>\n",
       "    </tr>\n",
       "    <tr>\n",
       "      <th>15409</th>\n",
       "      <td>Mahindra XUV500</td>\n",
       "      <td>Mahindra</td>\n",
       "      <td>XUV500</td>\n",
       "      <td>5</td>\n",
       "      <td>3800000</td>\n",
       "      <td>Dealer</td>\n",
       "      <td>Diesel</td>\n",
       "      <td>Manual</td>\n",
       "      <td>16.00</td>\n",
       "      <td>2179</td>\n",
       "      <td>140.00</td>\n",
       "      <td>7</td>\n",
       "      <td>1225000</td>\n",
       "    </tr>\n",
       "    <tr>\n",
       "      <th>15410</th>\n",
       "      <td>Honda City</td>\n",
       "      <td>Honda</td>\n",
       "      <td>City</td>\n",
       "      <td>2</td>\n",
       "      <td>13000</td>\n",
       "      <td>Dealer</td>\n",
       "      <td>Petrol</td>\n",
       "      <td>Automatic</td>\n",
       "      <td>18.00</td>\n",
       "      <td>1497</td>\n",
       "      <td>117.60</td>\n",
       "      <td>5</td>\n",
       "      <td>1200000</td>\n",
       "    </tr>\n",
       "  </tbody>\n",
       "</table>\n",
       "</div>"
      ],
      "text/plain": [
       "              car_name     brand   model  vehicle_age  km_driven seller_type  \\\n",
       "15406      Hyundai i10   Hyundai     i10            9      10723      Dealer   \n",
       "15407    Maruti Ertiga    Maruti  Ertiga            2      18000      Dealer   \n",
       "15408      Skoda Rapid     Skoda   Rapid            6      67000      Dealer   \n",
       "15409  Mahindra XUV500  Mahindra  XUV500            5    3800000      Dealer   \n",
       "15410       Honda City     Honda    City            2      13000      Dealer   \n",
       "\n",
       "      fuel_type transmission_type  mileage  engine  max_power  seats  \\\n",
       "15406    Petrol            Manual    19.81    1086      68.05      5   \n",
       "15407    Petrol            Manual    17.50    1373      91.10      7   \n",
       "15408    Diesel            Manual    21.14    1498     103.52      5   \n",
       "15409    Diesel            Manual    16.00    2179     140.00      7   \n",
       "15410    Petrol         Automatic    18.00    1497     117.60      5   \n",
       "\n",
       "       selling_price  \n",
       "15406         250000  \n",
       "15407         925000  \n",
       "15408         425000  \n",
       "15409        1225000  \n",
       "15410        1200000  "
      ]
     },
     "execution_count": 29,
     "metadata": {},
     "output_type": "execute_result"
    }
   ],
   "source": [
    "df.tail()"
   ]
  },
  {
   "cell_type": "code",
   "execution_count": 30,
   "id": "b941d099-f3bc-42da-bd0d-5081bc850a94",
   "metadata": {},
   "outputs": [
    {
     "data": {
      "text/plain": [
       "car_name             0\n",
       "brand                0\n",
       "model                0\n",
       "vehicle_age          0\n",
       "km_driven            0\n",
       "seller_type          0\n",
       "fuel_type            0\n",
       "transmission_type    0\n",
       "mileage              0\n",
       "engine               0\n",
       "max_power            0\n",
       "seats                0\n",
       "selling_price        0\n",
       "dtype: int64"
      ]
     },
     "execution_count": 30,
     "metadata": {},
     "output_type": "execute_result"
    }
   ],
   "source": [
    "df.isna().sum()"
   ]
  },
  {
   "cell_type": "code",
   "execution_count": 31,
   "id": "abd71c67-c7d9-497b-9c56-7c3a963adf77",
   "metadata": {},
   "outputs": [
    {
     "data": {
      "text/plain": [
       "car_name             0\n",
       "brand                0\n",
       "model                0\n",
       "vehicle_age          0\n",
       "km_driven            0\n",
       "seller_type          0\n",
       "fuel_type            0\n",
       "transmission_type    0\n",
       "mileage              0\n",
       "engine               0\n",
       "max_power            0\n",
       "seats                0\n",
       "selling_price        0\n",
       "dtype: int64"
      ]
     },
     "execution_count": 31,
     "metadata": {},
     "output_type": "execute_result"
    }
   ],
   "source": [
    "df.isnull().sum()"
   ]
  },
  {
   "cell_type": "code",
   "execution_count": 32,
   "id": "3cfa06b5-2285-49a8-a705-d6d7ee1e7cd7",
   "metadata": {},
   "outputs": [
    {
     "data": {
      "text/plain": [
       "<Axes: >"
      ]
     },
     "execution_count": 32,
     "metadata": {},
     "output_type": "execute_result"
    },
    {
     "data": {
      "image/png": "[encoded data removed]",
      "text/plain": [
       "<Figure size 640x480 with 2 Axes>"
      ]
     },
     "metadata": {},
     "output_type": "display_data"
    }
   ],
   "source": [
    "import seaborn as sns\n",
    "sns.heatmap(df.isnull())"
   ]
  },
  {
   "cell_type": "code",
   "execution_count": 33,
   "id": "79ed51e9-2422-4201-9912-1f066cb9ccef",
   "metadata": {},
   "outputs": [
    {
     "data": {
      "text/html": [
       "<div>\n",
       "<style scoped>\n",
       "    .dataframe tbody tr th:only-of-type {\n",
       "        vertical-align: middle;\n",
       "    }\n",
       "\n",
       "    .dataframe tbody tr th {\n",
       "        vertical-align: top;\n",
       "    }\n",
       "\n",
       "    .dataframe thead th {\n",
       "        text-align: right;\n",
       "    }\n",
       "</style>\n",
       "<table border=\"1\" class=\"dataframe\">\n",
       "  <thead>\n",
       "    <tr style=\"text-align: right;\">\n",
       "      <th></th>\n",
       "      <th>vehicle_age</th>\n",
       "      <th>km_driven</th>\n",
       "      <th>mileage</th>\n",
       "      <th>engine</th>\n",
       "      <th>max_power</th>\n",
       "      <th>seats</th>\n",
       "      <th>selling_price</th>\n",
       "    </tr>\n",
       "  </thead>\n",
       "  <tbody>\n",
       "    <tr>\n",
       "      <th>count</th>\n",
       "      <td>15411.000000</td>\n",
       "      <td>1.541100e+04</td>\n",
       "      <td>15411.000000</td>\n",
       "      <td>15411.000000</td>\n",
       "      <td>15411.000000</td>\n",
       "      <td>15411.000000</td>\n",
       "      <td>1.541100e+04</td>\n",
       "    </tr>\n",
       "    <tr>\n",
       "      <th>mean</th>\n",
       "      <td>6.036338</td>\n",
       "      <td>5.561648e+04</td>\n",
       "      <td>19.701151</td>\n",
       "      <td>1486.057751</td>\n",
       "      <td>100.588254</td>\n",
       "      <td>5.325482</td>\n",
       "      <td>7.749711e+05</td>\n",
       "    </tr>\n",
       "    <tr>\n",
       "      <th>std</th>\n",
       "      <td>3.013291</td>\n",
       "      <td>5.161855e+04</td>\n",
       "      <td>4.171265</td>\n",
       "      <td>521.106696</td>\n",
       "      <td>42.972979</td>\n",
       "      <td>0.807628</td>\n",
       "      <td>8.941284e+05</td>\n",
       "    </tr>\n",
       "    <tr>\n",
       "      <th>min</th>\n",
       "      <td>0.000000</td>\n",
       "      <td>1.000000e+02</td>\n",
       "      <td>4.000000</td>\n",
       "      <td>793.000000</td>\n",
       "      <td>38.400000</td>\n",
       "      <td>0.000000</td>\n",
       "      <td>4.000000e+04</td>\n",
       "    </tr>\n",
       "    <tr>\n",
       "      <th>25%</th>\n",
       "      <td>4.000000</td>\n",
       "      <td>3.000000e+04</td>\n",
       "      <td>17.000000</td>\n",
       "      <td>1197.000000</td>\n",
       "      <td>74.000000</td>\n",
       "      <td>5.000000</td>\n",
       "      <td>3.850000e+05</td>\n",
       "    </tr>\n",
       "    <tr>\n",
       "      <th>50%</th>\n",
       "      <td>6.000000</td>\n",
       "      <td>5.000000e+04</td>\n",
       "      <td>19.670000</td>\n",
       "      <td>1248.000000</td>\n",
       "      <td>88.500000</td>\n",
       "      <td>5.000000</td>\n",
       "      <td>5.560000e+05</td>\n",
       "    </tr>\n",
       "    <tr>\n",
       "      <th>75%</th>\n",
       "      <td>8.000000</td>\n",
       "      <td>7.000000e+04</td>\n",
       "      <td>22.700000</td>\n",
       "      <td>1582.000000</td>\n",
       "      <td>117.300000</td>\n",
       "      <td>5.000000</td>\n",
       "      <td>8.250000e+05</td>\n",
       "    </tr>\n",
       "    <tr>\n",
       "      <th>max</th>\n",
       "      <td>29.000000</td>\n",
       "      <td>3.800000e+06</td>\n",
       "      <td>33.540000</td>\n",
       "      <td>6592.000000</td>\n",
       "      <td>626.000000</td>\n",
       "      <td>9.000000</td>\n",
       "      <td>3.950000e+07</td>\n",
       "    </tr>\n",
       "  </tbody>\n",
       "</table>\n",
       "</div>"
      ],
      "text/plain": [
       "        vehicle_age     km_driven       mileage        engine     max_power  \\\n",
       "count  15411.000000  1.541100e+04  15411.000000  15411.000000  15411.000000   \n",
       "mean       6.036338  5.561648e+04     19.701151   1486.057751    100.588254   \n",
       "std        3.013291  5.161855e+04      4.171265    521.106696     42.972979   \n",
       "min        0.000000  1.000000e+02      4.000000    793.000000     38.400000   \n",
       "25%        4.000000  3.000000e+04     17.000000   1197.000000     74.000000   \n",
       "50%        6.000000  5.000000e+04     19.670000   1248.000000     88.500000   \n",
       "75%        8.000000  7.000000e+04     22.700000   1582.000000    117.300000   \n",
       "max       29.000000  3.800000e+06     33.540000   6592.000000    626.000000   \n",
       "\n",
       "              seats  selling_price  \n",
       "count  15411.000000   1.541100e+04  \n",
       "mean       5.325482   7.749711e+05  \n",
       "std        0.807628   8.941284e+05  \n",
       "min        0.000000   4.000000e+04  \n",
       "25%        5.000000   3.850000e+05  \n",
       "50%        5.000000   5.560000e+05  \n",
       "75%        5.000000   8.250000e+05  \n",
       "max        9.000000   3.950000e+07  "
      ]
     },
     "execution_count": 33,
     "metadata": {},
     "output_type": "execute_result"
    }
   ],
   "source": [
    "df.describe()"
   ]
  },
  {
   "cell_type": "code",
   "execution_count": 34,
   "id": "4bbf9c88-e52d-4f01-8397-c0b254142f7b",
   "metadata": {},
   "outputs": [],
   "source": [
    "cat_col = list(df.describe(include=['O']).columns)\n",
    "num_col = list(df.describe().columns)"
   ]
  },
  {
   "cell_type": "code",
   "execution_count": 35,
   "id": "f34c4eb4-5208-43f2-b07a-4d186bc5ad42",
   "metadata": {},
   "outputs": [
    {
     "name": "stdout",
     "output_type": "stream",
     "text": [
      "['car_name', 'brand', 'model', 'seller_type', 'fuel_type', 'transmission_type']\n"
     ]
    }
   ],
   "source": [
    "print(cat_col)"
   ]
  },
  {
   "cell_type": "code",
   "execution_count": 36,
   "id": "b33a3fe5-268d-4abc-8c2a-b19a2c81ac70",
   "metadata": {},
   "outputs": [
    {
     "name": "stdout",
     "output_type": "stream",
     "text": [
      "['vehicle_age', 'km_driven', 'mileage', 'engine', 'max_power', 'seats', 'selling_price']\n"
     ]
    }
   ],
   "source": [
    "print(num_col)"
   ]
  },
  {
   "cell_type": "code",
   "execution_count": 37,
   "id": "c46a8c15-b69c-4fa2-9881-a6dfca57229c",
   "metadata": {},
   "outputs": [
    {
     "data": {
      "text/plain": [
       "car_name\n",
       "Hyundai i20           906\n",
       "Maruti Swift Dzire    890\n",
       "Maruti Swift          781\n",
       "Maruti Alto           778\n",
       "Honda City            757\n",
       "                     ... \n",
       "Mercedes-AMG C          1\n",
       "Tata Altroz             1\n",
       "Ferrari GTC4Lusso       1\n",
       "Hyundai Aura            1\n",
       "Force Gurkha            1\n",
       "Name: count, Length: 121, dtype: int64"
      ]
     },
     "execution_count": 37,
     "metadata": {},
     "output_type": "execute_result"
    }
   ],
   "source": [
    "df['car_name'].value_counts()"
   ]
  },
  {
   "cell_type": "code",
   "execution_count": 38,
   "id": "d35d3bc1-de06-4b2b-b1c4-3189984cc8bf",
   "metadata": {},
   "outputs": [
    {
     "name": "stdout",
     "output_type": "stream",
     "text": [
      "<class 'pandas.core.frame.DataFrame'>\n"
     ]
    }
   ],
   "source": [
    "print(type(df))"
   ]
  },
  {
   "cell_type": "code",
   "execution_count": 39,
   "id": "3160e448-7cf5-4b58-bed5-45e56f6d4eae",
   "metadata": {},
   "outputs": [
    {
     "name": "stdout",
     "output_type": "stream",
     "text": [
      "<class 'pandas.core.series.Series'>\n"
     ]
    }
   ],
   "source": [
    "print(type(df['car_name']))"
   ]
  },
  {
   "cell_type": "code",
   "execution_count": 40,
   "id": "9b985048-7f05-408d-aa5d-6d8360de4d08",
   "metadata": {},
   "outputs": [
    {
     "data": {
      "text/plain": [
       "car_name\n",
       "Hyundai i20           906\n",
       "Maruti Swift Dzire    890\n",
       "Maruti Swift          781\n",
       "Maruti Alto           778\n",
       "Honda City            757\n",
       "Maruti Wagon R        717\n",
       "Hyundai Grand         580\n",
       "Toyota Innova         545\n",
       "Hyundai Verna         492\n",
       "Hyundai i10           410\n",
       "Name: count, dtype: int64"
      ]
     },
     "execution_count": 40,
     "metadata": {},
     "output_type": "execute_result"
    }
   ],
   "source": [
    "df['car_name'].value_counts().head(10)"
   ]
  },
  {
   "cell_type": "code",
   "execution_count": 41,
   "id": "4cea8b2e-c93f-4c14-b9eb-8794ec6743e3",
   "metadata": {},
   "outputs": [
    {
     "data": {
      "text/plain": [
       "car_name\n",
       "Maruti Dzire LXI         2\n",
       "Isuzu MUX                1\n",
       "Maserati Quattroporte    1\n",
       "Rolls-Royce Ghost        1\n",
       "Maserati Ghibli          1\n",
       "Mercedes-AMG C           1\n",
       "Tata Altroz              1\n",
       "Ferrari GTC4Lusso        1\n",
       "Hyundai Aura             1\n",
       "Force Gurkha             1\n",
       "Name: count, dtype: int64"
      ]
     },
     "execution_count": 41,
     "metadata": {},
     "output_type": "execute_result"
    }
   ],
   "source": [
    "df['car_name'].value_counts().tail(10)"
   ]
  },
  {
   "cell_type": "code",
   "execution_count": 43,
   "id": "58d05d94-93d7-40a7-adf7-87cb83083cde",
   "metadata": {},
   "outputs": [
    {
     "data": {
      "text/plain": [
       "car_name\n",
       "Hyundai i20           906\n",
       "Maruti Swift Dzire    890\n",
       "Maruti Swift          781\n",
       "Maruti Alto           778\n",
       "Honda City            757\n",
       "Maruti Wagon R        717\n",
       "Hyundai Grand         580\n",
       "Toyota Innova         545\n",
       "Hyundai Verna         492\n",
       "Hyundai i10           410\n",
       "Name: count, dtype: int64"
      ]
     },
     "metadata": {},
     "output_type": "display_data"
    },
    {
     "name": "stdout",
     "output_type": "stream",
     "text": [
      "--------------------\n",
      "\n",
      "\n"
     ]
    },
    {
     "data": {
      "text/plain": [
       "brand\n",
       "Maruti        4992\n",
       "Hyundai       2982\n",
       "Honda         1485\n",
       "Mahindra      1011\n",
       "Toyota         793\n",
       "Ford           790\n",
       "Volkswagen     620\n",
       "Renault        536\n",
       "BMW            439\n",
       "Tata           430\n",
       "Name: count, dtype: int64"
      ]
     },
     "metadata": {},
     "output_type": "display_data"
    },
    {
     "name": "stdout",
     "output_type": "stream",
     "text": [
      "--------------------\n",
      "\n",
      "\n"
     ]
    },
    {
     "data": {
      "text/plain": [
       "model\n",
       "i20            906\n",
       "Swift Dzire    890\n",
       "Swift          781\n",
       "Alto           778\n",
       "City           757\n",
       "Wagon R        717\n",
       "Grand          580\n",
       "Innova         545\n",
       "Verna          492\n",
       "i10            410\n",
       "Name: count, dtype: int64"
      ]
     },
     "metadata": {},
     "output_type": "display_data"
    },
    {
     "name": "stdout",
     "output_type": "stream",
     "text": [
      "--------------------\n",
      "\n",
      "\n"
     ]
    },
    {
     "data": {
      "text/plain": [
       "seller_type\n",
       "Dealer              9539\n",
       "Individual          5699\n",
       "Trustmark Dealer     173\n",
       "Name: count, dtype: int64"
      ]
     },
     "metadata": {},
     "output_type": "display_data"
    },
    {
     "name": "stdout",
     "output_type": "stream",
     "text": [
      "--------------------\n",
      "\n",
      "\n"
     ]
    },
    {
     "data": {
      "text/plain": [
       "fuel_type\n",
       "Petrol      7643\n",
       "Diesel      7419\n",
       "CNG          301\n",
       "LPG           44\n",
       "Electric       4\n",
       "Name: count, dtype: int64"
      ]
     },
     "metadata": {},
     "output_type": "display_data"
    },
    {
     "name": "stdout",
     "output_type": "stream",
     "text": [
      "--------------------\n",
      "\n",
      "\n"
     ]
    },
    {
     "data": {
      "text/plain": [
       "transmission_type\n",
       "Manual       12225\n",
       "Automatic     3186\n",
       "Name: count, dtype: int64"
      ]
     },
     "metadata": {},
     "output_type": "display_data"
    },
    {
     "name": "stdout",
     "output_type": "stream",
     "text": [
      "--------------------\n",
      "\n",
      "\n"
     ]
    }
   ],
   "source": [
    "for i in cat_col:\n",
    "  display(df[i].value_counts().head(10))\n",
    "\n",
    "  print('--------------------\\n\\n')"
   ]
  },
  {
   "cell_type": "code",
   "execution_count": 44,
   "id": "6d9e1230-76e2-4a31-8029-b4b8479d40cc",
   "metadata": {},
   "outputs": [
    {
     "name": "stdout",
     "output_type": "stream",
     "text": [
      "\n",
      "\n",
      "Top 10 Analysis by car_name\n",
      "\n"
     ]
    },
    {
     "data": {
      "text/plain": [
       "car_name\n",
       "Hyundai i20           906\n",
       "Maruti Swift Dzire    890\n",
       "Maruti Swift          781\n",
       "Maruti Alto           778\n",
       "Honda City            757\n",
       "Maruti Wagon R        717\n",
       "Hyundai Grand         580\n",
       "Toyota Innova         545\n",
       "Hyundai Verna         492\n",
       "Hyundai i10           410\n",
       "Name: count, dtype: int64"
      ]
     },
     "metadata": {},
     "output_type": "display_data"
    },
    {
     "name": "stdout",
     "output_type": "stream",
     "text": [
      "\n",
      "\n",
      "Top 10 Analysis by brand\n",
      "\n"
     ]
    },
    {
     "data": {
      "text/plain": [
       "brand\n",
       "Maruti        4992\n",
       "Hyundai       2982\n",
       "Honda         1485\n",
       "Mahindra      1011\n",
       "Toyota         793\n",
       "Ford           790\n",
       "Volkswagen     620\n",
       "Renault        536\n",
       "BMW            439\n",
       "Tata           430\n",
       "Name: count, dtype: int64"
      ]
     },
     "metadata": {},
     "output_type": "display_data"
    },
    {
     "name": "stdout",
     "output_type": "stream",
     "text": [
      "\n",
      "\n",
      "Top 10 Analysis by model\n",
      "\n"
     ]
    },
    {
     "data": {
      "text/plain": [
       "model\n",
       "i20            906\n",
       "Swift Dzire    890\n",
       "Swift          781\n",
       "Alto           778\n",
       "City           757\n",
       "Wagon R        717\n",
       "Grand          580\n",
       "Innova         545\n",
       "Verna          492\n",
       "i10            410\n",
       "Name: count, dtype: int64"
      ]
     },
     "metadata": {},
     "output_type": "display_data"
    },
    {
     "name": "stdout",
     "output_type": "stream",
     "text": [
      "\n",
      "\n",
      "Top 10 Analysis by seller_type\n",
      "\n"
     ]
    },
    {
     "data": {
      "text/plain": [
       "seller_type\n",
       "Dealer              9539\n",
       "Individual          5699\n",
       "Trustmark Dealer     173\n",
       "Name: count, dtype: int64"
      ]
     },
     "metadata": {},
     "output_type": "display_data"
    },
    {
     "name": "stdout",
     "output_type": "stream",
     "text": [
      "\n",
      "\n",
      "Top 10 Analysis by fuel_type\n",
      "\n"
     ]
    },
    {
     "data": {
      "text/plain": [
       "fuel_type\n",
       "Petrol      7643\n",
       "Diesel      7419\n",
       "CNG          301\n",
       "LPG           44\n",
       "Electric       4\n",
       "Name: count, dtype: int64"
      ]
     },
     "metadata": {},
     "output_type": "display_data"
    },
    {
     "name": "stdout",
     "output_type": "stream",
     "text": [
      "\n",
      "\n",
      "Top 10 Analysis by transmission_type\n",
      "\n"
     ]
    },
    {
     "data": {
      "text/plain": [
       "transmission_type\n",
       "Manual       12225\n",
       "Automatic     3186\n",
       "Name: count, dtype: int64"
      ]
     },
     "metadata": {},
     "output_type": "display_data"
    }
   ],
   "source": [
    "for i in cat_col:\n",
    "  print(f'\\n\\nTop 10 Analysis by {i}\\n')\n",
    "  display(df[i].value_counts().head(10))\n"
   ]
  },
  {
   "cell_type": "code",
   "execution_count": 45,
   "id": "a9fb7f62-d884-48a7-82b5-dbb521238792",
   "metadata": {},
   "outputs": [
    {
     "name": "stdout",
     "output_type": "stream",
     "text": [
      "\n",
      "\n",
      "Top 10 Analysis by car_name\n",
      "\n"
     ]
    },
    {
     "data": {
      "text/plain": [
       "car_name\n",
       "Hyundai i20           13.21\n",
       "Maruti Swift Dzire    12.98\n",
       "Maruti Swift          11.39\n",
       "Maruti Alto           11.35\n",
       "Honda City            11.04\n",
       "Maruti Wagon R        10.46\n",
       "Hyundai Grand          8.46\n",
       "Toyota Innova          7.95\n",
       "Hyundai Verna          7.18\n",
       "Hyundai i10            5.98\n",
       "Name: count, dtype: float64"
      ]
     },
     "metadata": {},
     "output_type": "display_data"
    },
    {
     "name": "stdout",
     "output_type": "stream",
     "text": [
      "\n",
      "\n",
      "Top 10 Analysis by brand\n",
      "\n"
     ]
    },
    {
     "data": {
      "text/plain": [
       "brand\n",
       "Maruti        35.46\n",
       "Hyundai       21.18\n",
       "Honda         10.55\n",
       "Mahindra       7.18\n",
       "Toyota         5.63\n",
       "Ford           5.61\n",
       "Volkswagen     4.40\n",
       "Renault        3.81\n",
       "BMW            3.12\n",
       "Tata           3.05\n",
       "Name: count, dtype: float64"
      ]
     },
     "metadata": {},
     "output_type": "display_data"
    },
    {
     "name": "stdout",
     "output_type": "stream",
     "text": [
      "\n",
      "\n",
      "Top 10 Analysis by model\n",
      "\n"
     ]
    },
    {
     "data": {
      "text/plain": [
       "model\n",
       "i20            13.21\n",
       "Swift Dzire    12.98\n",
       "Swift          11.39\n",
       "Alto           11.35\n",
       "City           11.04\n",
       "Wagon R        10.46\n",
       "Grand           8.46\n",
       "Innova          7.95\n",
       "Verna           7.18\n",
       "i10             5.98\n",
       "Name: count, dtype: float64"
      ]
     },
     "metadata": {},
     "output_type": "display_data"
    },
    {
     "name": "stdout",
     "output_type": "stream",
     "text": [
      "\n",
      "\n",
      "Top 10 Analysis by seller_type\n",
      "\n"
     ]
    },
    {
     "data": {
      "text/plain": [
       "seller_type\n",
       "Dealer              61.90\n",
       "Individual          36.98\n",
       "Trustmark Dealer     1.12\n",
       "Name: count, dtype: float64"
      ]
     },
     "metadata": {},
     "output_type": "display_data"
    },
    {
     "name": "stdout",
     "output_type": "stream",
     "text": [
      "\n",
      "\n",
      "Top 10 Analysis by fuel_type\n",
      "\n"
     ]
    },
    {
     "data": {
      "text/plain": [
       "fuel_type\n",
       "Petrol      49.59\n",
       "Diesel      48.14\n",
       "CNG          1.95\n",
       "LPG          0.29\n",
       "Electric     0.03\n",
       "Name: count, dtype: float64"
      ]
     },
     "metadata": {},
     "output_type": "display_data"
    },
    {
     "name": "stdout",
     "output_type": "stream",
     "text": [
      "\n",
      "\n",
      "Top 10 Analysis by transmission_type\n",
      "\n"
     ]
    },
    {
     "data": {
      "text/plain": [
       "transmission_type\n",
       "Manual       79.33\n",
       "Automatic    20.67\n",
       "Name: count, dtype: float64"
      ]
     },
     "metadata": {},
     "output_type": "display_data"
    }
   ],
   "source": [
    "for i in cat_col:\n",
    "  print(f'\\n\\nTop 10 Analysis by {i}\\n')\n",
    "  top_10 = df[i].value_counts().head(10)\n",
    "\n",
    "  ans = (top_10/top_10.sum())*100\n",
    "\n",
    "  display(ans.round(2))"
   ]
  },
  {
   "cell_type": "code",
   "execution_count": 52,
   "id": "ae2d619e-4a5a-4261-8a6f-8c7cc5f59092",
   "metadata": {},
   "outputs": [
    {
     "data": {
      "text/plain": [
       "<Axes: ylabel='count'>"
      ]
     },
     "execution_count": 52,
     "metadata": {},
     "output_type": "execute_result"
    },
    {
     "data": {
      "image/png": "[encoded data removed]",
      "text/plain": [
       "<Figure size 640x480 with 1 Axes>"
      ]
     },
     "metadata": {},
     "output_type": "display_data"
    }
   ],
   "source": [
    "df['car_name'].value_counts().head(10).plot(kind = 'pie',autopct = '%.2f%%')"
   ]
  },
  {
   "cell_type": "code",
   "execution_count": 61,
   "id": "d79f98e2-4fe3-4bba-ad27-65872a9582d3",
   "metadata": {},
   "outputs": [
    {
     "data": {
      "image/png": "[encoded data removed]",
      "text/plain": [
       "<Figure size 800x500 with 1 Axes>"
      ]
     },
     "metadata": {},
     "output_type": "display_data"
    }
   ],
   "source": [
    "import matplotlib.pyplot as plt\n",
    "\n",
    "\n",
    "\n",
    "x = df['car_name'].value_counts().head(10).index\n",
    "y = df['car_name'].value_counts().head(10).values\n",
    "\n",
    "plt.figure(figsize = (8,5))\n",
    "plt.title('Top 10 Inventory Cars',fontsize = 20,color = 'Brown')\n",
    "# ax = plt.bar(x,y, color = 'red')\n",
    "\n",
    "ax = plt.bar(x,y, color = sns.color_palette('rainbow',10))  # cool, hot, rainbow, # magma\n",
    "plt.bar_label(ax)\n",
    "plt.xticks(rotation = 45)\n",
    "plt.show()"
   ]
  },
  {
   "cell_type": "code",
   "execution_count": 64,
   "id": "e4a1b8d1-faeb-441b-9cfd-40cbcf4daf82",
   "metadata": {},
   "outputs": [
    {
     "data": {
      "text/plain": [
       "<Axes: ylabel='Frequency'>"
      ]
     },
     "execution_count": 64,
     "metadata": {},
     "output_type": "execute_result"
    },
    {
     "data": {
      "image/png": "[encoded data removed]",
      "text/plain": [
       "<Figure size 640x480 with 1 Axes>"
      ]
     },
     "metadata": {},
     "output_type": "display_data"
    }
   ],
   "source": [
    "df['selling_price'].plot(kind='hist')"
   ]
  },
  {
   "cell_type": "code",
   "execution_count": 68,
   "id": "ab3b93f6-0d44-47a9-82c8-c9209ae1c99f",
   "metadata": {},
   "outputs": [],
   "source": [
    "import numpy as np\n",
    "\n",
    "def plot_hist(col_name,bin_size = 100):\n",
    "  plt.title(f'\\n\\n{col_name} Distribution Analysis'.title(),fontsize = 20,color = 'Red')\n",
    "  plt.hist(df[col_name],color = 'red',bins = np.linspace(df[col_name].min(),df[col_name].max(),bin_size))\n",
    "\n",
    "  plt.show()\n"
   ]
  },
  {
   "cell_type": "code",
   "execution_count": 69,
   "id": "02442059-b877-44ba-b5c8-b74dc45932ed",
   "metadata": {},
   "outputs": [
    {
     "data": {
      "image/png": "[encoded data removed]",
      "text/plain": [
       "<Figure size 640x480 with 1 Axes>"
      ]
     },
     "metadata": {},
     "output_type": "display_data"
    }
   ],
   "source": [
    "plot_hist('engine')"
   ]
  },
  {
   "cell_type": "code",
   "execution_count": 70,
   "id": "196a7c11-4f93-46f8-a151-e1184990beed",
   "metadata": {},
   "outputs": [
    {
     "data": {
      "image/png": "[encoded data removed]",
      "text/plain": [
       "<Figure size 640x480 with 1 Axes>"
      ]
     },
     "metadata": {},
     "output_type": "display_data"
    }
   ],
   "source": [
    "plot_hist('mileage')"
   ]
  },
  {
   "cell_type": "code",
   "execution_count": 78,
   "id": "67602dc5-2477-46be-b128-a6ac1cca01a6",
   "metadata": {},
   "outputs": [
    {
     "data": {
      "text/html": [
       "<div>\n",
       "<style scoped>\n",
       "    .dataframe tbody tr th:only-of-type {\n",
       "        vertical-align: middle;\n",
       "    }\n",
       "\n",
       "    .dataframe tbody tr th {\n",
       "        vertical-align: top;\n",
       "    }\n",
       "\n",
       "    .dataframe thead th {\n",
       "        text-align: right;\n",
       "    }\n",
       "</style>\n",
       "<table border=\"1\" class=\"dataframe\">\n",
       "  <thead>\n",
       "    <tr style=\"text-align: right;\">\n",
       "      <th></th>\n",
       "      <th>car_name</th>\n",
       "      <th>brand</th>\n",
       "      <th>model</th>\n",
       "      <th>vehicle_age</th>\n",
       "      <th>km_driven</th>\n",
       "      <th>seller_type</th>\n",
       "      <th>fuel_type</th>\n",
       "      <th>transmission_type</th>\n",
       "      <th>mileage</th>\n",
       "      <th>engine</th>\n",
       "      <th>max_power</th>\n",
       "      <th>seats</th>\n",
       "      <th>selling_price</th>\n",
       "    </tr>\n",
       "  </thead>\n",
       "  <tbody>\n",
       "    <tr>\n",
       "      <th>3799</th>\n",
       "      <td>Ferrari GTC4Lusso</td>\n",
       "      <td>Ferrari</td>\n",
       "      <td>GTC4Lusso</td>\n",
       "      <td>2</td>\n",
       "      <td>3800</td>\n",
       "      <td>Dealer</td>\n",
       "      <td>Petrol</td>\n",
       "      <td>Automatic</td>\n",
       "      <td>4.0</td>\n",
       "      <td>3855</td>\n",
       "      <td>601.0</td>\n",
       "      <td>4</td>\n",
       "      <td>39500000</td>\n",
       "    </tr>\n",
       "  </tbody>\n",
       "</table>\n",
       "</div>"
      ],
      "text/plain": [
       "               car_name    brand      model  vehicle_age  km_driven  \\\n",
       "3799  Ferrari GTC4Lusso  Ferrari  GTC4Lusso            2       3800   \n",
       "\n",
       "     seller_type fuel_type transmission_type  mileage  engine  max_power  \\\n",
       "3799      Dealer    Petrol         Automatic      4.0    3855      601.0   \n",
       "\n",
       "      seats  selling_price  \n",
       "3799      4       39500000  "
      ]
     },
     "execution_count": 78,
     "metadata": {},
     "output_type": "execute_result"
    }
   ],
   "source": [
    "df[df['mileage'] == df['mileage'].min()]"
   ]
  },
  {
   "cell_type": "code",
   "execution_count": 83,
   "id": "7347e50e-fa63-412e-bf28-eb38daf3f8a2",
   "metadata": {},
   "outputs": [
    {
     "data": {
      "text/html": [
       "<div>\n",
       "<style scoped>\n",
       "    .dataframe tbody tr th:only-of-type {\n",
       "        vertical-align: middle;\n",
       "    }\n",
       "\n",
       "    .dataframe tbody tr th {\n",
       "        vertical-align: top;\n",
       "    }\n",
       "\n",
       "    .dataframe thead th {\n",
       "        text-align: right;\n",
       "    }\n",
       "</style>\n",
       "<table border=\"1\" class=\"dataframe\">\n",
       "  <thead>\n",
       "    <tr style=\"text-align: right;\">\n",
       "      <th></th>\n",
       "      <th>car_name</th>\n",
       "      <th>brand</th>\n",
       "      <th>model</th>\n",
       "      <th>vehicle_age</th>\n",
       "      <th>km_driven</th>\n",
       "      <th>seller_type</th>\n",
       "      <th>fuel_type</th>\n",
       "      <th>transmission_type</th>\n",
       "      <th>mileage</th>\n",
       "      <th>engine</th>\n",
       "      <th>max_power</th>\n",
       "      <th>seats</th>\n",
       "      <th>selling_price</th>\n",
       "    </tr>\n",
       "  </thead>\n",
       "  <tbody>\n",
       "    <tr>\n",
       "      <th>3799</th>\n",
       "      <td>Ferrari GTC4Lusso</td>\n",
       "      <td>Ferrari</td>\n",
       "      <td>GTC4Lusso</td>\n",
       "      <td>2</td>\n",
       "      <td>3800</td>\n",
       "      <td>Dealer</td>\n",
       "      <td>Petrol</td>\n",
       "      <td>Automatic</td>\n",
       "      <td>4.0</td>\n",
       "      <td>3855</td>\n",
       "      <td>601.0</td>\n",
       "      <td>4</td>\n",
       "      <td>39500000</td>\n",
       "    </tr>\n",
       "  </tbody>\n",
       "</table>\n",
       "</div>"
      ],
      "text/plain": [
       "               car_name    brand      model  vehicle_age  km_driven  \\\n",
       "3799  Ferrari GTC4Lusso  Ferrari  GTC4Lusso            2       3800   \n",
       "\n",
       "     seller_type fuel_type transmission_type  mileage  engine  max_power  \\\n",
       "3799      Dealer    Petrol         Automatic      4.0    3855      601.0   \n",
       "\n",
       "      seats  selling_price  \n",
       "3799      4       39500000  "
      ]
     },
     "execution_count": 83,
     "metadata": {},
     "output_type": "execute_result"
    }
   ],
   "source": [
    "df[df['mileage'] == df['mileage'].min()]"
   ]
  },
  {
   "cell_type": "code",
   "execution_count": 84,
   "id": "0c3abca4-d2be-4ef8-b87a-705d2bb0d48e",
   "metadata": {},
   "outputs": [
    {
     "data": {
      "text/html": [
       "<div>\n",
       "<style scoped>\n",
       "    .dataframe tbody tr th:only-of-type {\n",
       "        vertical-align: middle;\n",
       "    }\n",
       "\n",
       "    .dataframe tbody tr th {\n",
       "        vertical-align: top;\n",
       "    }\n",
       "\n",
       "    .dataframe thead th {\n",
       "        text-align: right;\n",
       "    }\n",
       "</style>\n",
       "<table border=\"1\" class=\"dataframe\">\n",
       "  <thead>\n",
       "    <tr style=\"text-align: right;\">\n",
       "      <th></th>\n",
       "      <th>car_name</th>\n",
       "      <th>brand</th>\n",
       "      <th>model</th>\n",
       "      <th>vehicle_age</th>\n",
       "      <th>km_driven</th>\n",
       "      <th>seller_type</th>\n",
       "      <th>fuel_type</th>\n",
       "      <th>transmission_type</th>\n",
       "      <th>mileage</th>\n",
       "      <th>engine</th>\n",
       "      <th>max_power</th>\n",
       "      <th>seats</th>\n",
       "      <th>selling_price</th>\n",
       "    </tr>\n",
       "  </thead>\n",
       "  <tbody>\n",
       "    <tr>\n",
       "      <th>169</th>\n",
       "      <td>Maruti Wagon R</td>\n",
       "      <td>Maruti</td>\n",
       "      <td>Wagon R</td>\n",
       "      <td>3</td>\n",
       "      <td>52000</td>\n",
       "      <td>Dealer</td>\n",
       "      <td>CNG</td>\n",
       "      <td>Manual</td>\n",
       "      <td>33.54</td>\n",
       "      <td>998</td>\n",
       "      <td>67.04</td>\n",
       "      <td>5</td>\n",
       "      <td>435000</td>\n",
       "    </tr>\n",
       "    <tr>\n",
       "      <th>182</th>\n",
       "      <td>Maruti Wagon R</td>\n",
       "      <td>Maruti</td>\n",
       "      <td>Wagon R</td>\n",
       "      <td>8</td>\n",
       "      <td>64000</td>\n",
       "      <td>Dealer</td>\n",
       "      <td>CNG</td>\n",
       "      <td>Manual</td>\n",
       "      <td>33.54</td>\n",
       "      <td>998</td>\n",
       "      <td>67.04</td>\n",
       "      <td>5</td>\n",
       "      <td>270000</td>\n",
       "    </tr>\n",
       "    <tr>\n",
       "      <th>1250</th>\n",
       "      <td>Maruti Wagon R</td>\n",
       "      <td>Maruti</td>\n",
       "      <td>Wagon R</td>\n",
       "      <td>4</td>\n",
       "      <td>32013</td>\n",
       "      <td>Trustmark Dealer</td>\n",
       "      <td>CNG</td>\n",
       "      <td>Manual</td>\n",
       "      <td>33.54</td>\n",
       "      <td>998</td>\n",
       "      <td>67.04</td>\n",
       "      <td>5</td>\n",
       "      <td>380000</td>\n",
       "    </tr>\n",
       "    <tr>\n",
       "      <th>1574</th>\n",
       "      <td>Maruti Wagon R</td>\n",
       "      <td>Maruti</td>\n",
       "      <td>Wagon R</td>\n",
       "      <td>6</td>\n",
       "      <td>55000</td>\n",
       "      <td>Dealer</td>\n",
       "      <td>CNG</td>\n",
       "      <td>Manual</td>\n",
       "      <td>33.54</td>\n",
       "      <td>998</td>\n",
       "      <td>67.04</td>\n",
       "      <td>5</td>\n",
       "      <td>335000</td>\n",
       "    </tr>\n",
       "    <tr>\n",
       "      <th>2271</th>\n",
       "      <td>Maruti Wagon R</td>\n",
       "      <td>Maruti</td>\n",
       "      <td>Wagon R</td>\n",
       "      <td>9</td>\n",
       "      <td>62000</td>\n",
       "      <td>Dealer</td>\n",
       "      <td>CNG</td>\n",
       "      <td>Manual</td>\n",
       "      <td>33.54</td>\n",
       "      <td>998</td>\n",
       "      <td>67.04</td>\n",
       "      <td>5</td>\n",
       "      <td>340000</td>\n",
       "    </tr>\n",
       "    <tr>\n",
       "      <th>2303</th>\n",
       "      <td>Maruti Wagon R</td>\n",
       "      <td>Maruti</td>\n",
       "      <td>Wagon R</td>\n",
       "      <td>7</td>\n",
       "      <td>135975</td>\n",
       "      <td>Dealer</td>\n",
       "      <td>CNG</td>\n",
       "      <td>Manual</td>\n",
       "      <td>33.54</td>\n",
       "      <td>998</td>\n",
       "      <td>67.04</td>\n",
       "      <td>5</td>\n",
       "      <td>295000</td>\n",
       "    </tr>\n",
       "    <tr>\n",
       "      <th>2364</th>\n",
       "      <td>Maruti Wagon R</td>\n",
       "      <td>Maruti</td>\n",
       "      <td>Wagon R</td>\n",
       "      <td>8</td>\n",
       "      <td>63000</td>\n",
       "      <td>Dealer</td>\n",
       "      <td>CNG</td>\n",
       "      <td>Manual</td>\n",
       "      <td>33.54</td>\n",
       "      <td>998</td>\n",
       "      <td>67.04</td>\n",
       "      <td>5</td>\n",
       "      <td>351000</td>\n",
       "    </tr>\n",
       "    <tr>\n",
       "      <th>2750</th>\n",
       "      <td>Maruti Wagon R</td>\n",
       "      <td>Maruti</td>\n",
       "      <td>Wagon R</td>\n",
       "      <td>8</td>\n",
       "      <td>55853</td>\n",
       "      <td>Dealer</td>\n",
       "      <td>CNG</td>\n",
       "      <td>Manual</td>\n",
       "      <td>33.54</td>\n",
       "      <td>998</td>\n",
       "      <td>67.04</td>\n",
       "      <td>5</td>\n",
       "      <td>349000</td>\n",
       "    </tr>\n",
       "    <tr>\n",
       "      <th>2925</th>\n",
       "      <td>Maruti Wagon R</td>\n",
       "      <td>Maruti</td>\n",
       "      <td>Wagon R</td>\n",
       "      <td>3</td>\n",
       "      <td>32000</td>\n",
       "      <td>Dealer</td>\n",
       "      <td>CNG</td>\n",
       "      <td>Manual</td>\n",
       "      <td>33.54</td>\n",
       "      <td>998</td>\n",
       "      <td>67.04</td>\n",
       "      <td>5</td>\n",
       "      <td>485000</td>\n",
       "    </tr>\n",
       "    <tr>\n",
       "      <th>3342</th>\n",
       "      <td>Maruti Wagon R</td>\n",
       "      <td>Maruti</td>\n",
       "      <td>Wagon R</td>\n",
       "      <td>5</td>\n",
       "      <td>64224</td>\n",
       "      <td>Dealer</td>\n",
       "      <td>CNG</td>\n",
       "      <td>Manual</td>\n",
       "      <td>33.54</td>\n",
       "      <td>998</td>\n",
       "      <td>67.04</td>\n",
       "      <td>5</td>\n",
       "      <td>375000</td>\n",
       "    </tr>\n",
       "    <tr>\n",
       "      <th>3743</th>\n",
       "      <td>Maruti Wagon R</td>\n",
       "      <td>Maruti</td>\n",
       "      <td>Wagon R</td>\n",
       "      <td>7</td>\n",
       "      <td>69000</td>\n",
       "      <td>Dealer</td>\n",
       "      <td>CNG</td>\n",
       "      <td>Manual</td>\n",
       "      <td>33.54</td>\n",
       "      <td>998</td>\n",
       "      <td>67.04</td>\n",
       "      <td>5</td>\n",
       "      <td>349000</td>\n",
       "    </tr>\n",
       "    <tr>\n",
       "      <th>6989</th>\n",
       "      <td>Maruti Wagon R</td>\n",
       "      <td>Maruti</td>\n",
       "      <td>Wagon R</td>\n",
       "      <td>6</td>\n",
       "      <td>69000</td>\n",
       "      <td>Dealer</td>\n",
       "      <td>CNG</td>\n",
       "      <td>Manual</td>\n",
       "      <td>33.54</td>\n",
       "      <td>998</td>\n",
       "      <td>67.04</td>\n",
       "      <td>5</td>\n",
       "      <td>350000</td>\n",
       "    </tr>\n",
       "    <tr>\n",
       "      <th>9193</th>\n",
       "      <td>Maruti Wagon R</td>\n",
       "      <td>Maruti</td>\n",
       "      <td>Wagon R</td>\n",
       "      <td>2</td>\n",
       "      <td>19022</td>\n",
       "      <td>Dealer</td>\n",
       "      <td>CNG</td>\n",
       "      <td>Manual</td>\n",
       "      <td>33.54</td>\n",
       "      <td>998</td>\n",
       "      <td>67.04</td>\n",
       "      <td>5</td>\n",
       "      <td>470000</td>\n",
       "    </tr>\n",
       "    <tr>\n",
       "      <th>9483</th>\n",
       "      <td>Maruti Wagon R</td>\n",
       "      <td>Maruti</td>\n",
       "      <td>Wagon R</td>\n",
       "      <td>3</td>\n",
       "      <td>33955</td>\n",
       "      <td>Trustmark Dealer</td>\n",
       "      <td>CNG</td>\n",
       "      <td>Manual</td>\n",
       "      <td>33.54</td>\n",
       "      <td>998</td>\n",
       "      <td>67.04</td>\n",
       "      <td>5</td>\n",
       "      <td>425000</td>\n",
       "    </tr>\n",
       "    <tr>\n",
       "      <th>9908</th>\n",
       "      <td>Maruti Wagon R</td>\n",
       "      <td>Maruti</td>\n",
       "      <td>Wagon R</td>\n",
       "      <td>5</td>\n",
       "      <td>37208</td>\n",
       "      <td>Trustmark Dealer</td>\n",
       "      <td>CNG</td>\n",
       "      <td>Manual</td>\n",
       "      <td>33.54</td>\n",
       "      <td>998</td>\n",
       "      <td>67.04</td>\n",
       "      <td>5</td>\n",
       "      <td>365000</td>\n",
       "    </tr>\n",
       "    <tr>\n",
       "      <th>9960</th>\n",
       "      <td>Maruti Wagon R</td>\n",
       "      <td>Maruti</td>\n",
       "      <td>Wagon R</td>\n",
       "      <td>3</td>\n",
       "      <td>55000</td>\n",
       "      <td>Dealer</td>\n",
       "      <td>CNG</td>\n",
       "      <td>Manual</td>\n",
       "      <td>33.54</td>\n",
       "      <td>998</td>\n",
       "      <td>67.04</td>\n",
       "      <td>5</td>\n",
       "      <td>380000</td>\n",
       "    </tr>\n",
       "    <tr>\n",
       "      <th>10303</th>\n",
       "      <td>Maruti Wagon R</td>\n",
       "      <td>Maruti</td>\n",
       "      <td>Wagon R</td>\n",
       "      <td>9</td>\n",
       "      <td>71000</td>\n",
       "      <td>Dealer</td>\n",
       "      <td>CNG</td>\n",
       "      <td>Manual</td>\n",
       "      <td>33.54</td>\n",
       "      <td>998</td>\n",
       "      <td>67.04</td>\n",
       "      <td>5</td>\n",
       "      <td>275000</td>\n",
       "    </tr>\n",
       "    <tr>\n",
       "      <th>10361</th>\n",
       "      <td>Maruti Wagon R</td>\n",
       "      <td>Maruti</td>\n",
       "      <td>Wagon R</td>\n",
       "      <td>4</td>\n",
       "      <td>75000</td>\n",
       "      <td>Dealer</td>\n",
       "      <td>CNG</td>\n",
       "      <td>Manual</td>\n",
       "      <td>33.54</td>\n",
       "      <td>998</td>\n",
       "      <td>67.04</td>\n",
       "      <td>5</td>\n",
       "      <td>375000</td>\n",
       "    </tr>\n",
       "    <tr>\n",
       "      <th>11310</th>\n",
       "      <td>Maruti Wagon R</td>\n",
       "      <td>Maruti</td>\n",
       "      <td>Wagon R</td>\n",
       "      <td>5</td>\n",
       "      <td>65000</td>\n",
       "      <td>Dealer</td>\n",
       "      <td>CNG</td>\n",
       "      <td>Manual</td>\n",
       "      <td>33.54</td>\n",
       "      <td>998</td>\n",
       "      <td>67.04</td>\n",
       "      <td>5</td>\n",
       "      <td>310000</td>\n",
       "    </tr>\n",
       "    <tr>\n",
       "      <th>11685</th>\n",
       "      <td>Maruti Wagon R</td>\n",
       "      <td>Maruti</td>\n",
       "      <td>Wagon R</td>\n",
       "      <td>4</td>\n",
       "      <td>28763</td>\n",
       "      <td>Trustmark Dealer</td>\n",
       "      <td>CNG</td>\n",
       "      <td>Manual</td>\n",
       "      <td>33.54</td>\n",
       "      <td>998</td>\n",
       "      <td>67.04</td>\n",
       "      <td>5</td>\n",
       "      <td>400000</td>\n",
       "    </tr>\n",
       "    <tr>\n",
       "      <th>11727</th>\n",
       "      <td>Maruti Wagon R</td>\n",
       "      <td>Maruti</td>\n",
       "      <td>Wagon R</td>\n",
       "      <td>4</td>\n",
       "      <td>30000</td>\n",
       "      <td>Individual</td>\n",
       "      <td>CNG</td>\n",
       "      <td>Manual</td>\n",
       "      <td>33.54</td>\n",
       "      <td>998</td>\n",
       "      <td>67.04</td>\n",
       "      <td>5</td>\n",
       "      <td>450000</td>\n",
       "    </tr>\n",
       "    <tr>\n",
       "      <th>12260</th>\n",
       "      <td>Maruti Wagon R</td>\n",
       "      <td>Maruti</td>\n",
       "      <td>Wagon R</td>\n",
       "      <td>5</td>\n",
       "      <td>56000</td>\n",
       "      <td>Dealer</td>\n",
       "      <td>CNG</td>\n",
       "      <td>Manual</td>\n",
       "      <td>33.54</td>\n",
       "      <td>998</td>\n",
       "      <td>67.04</td>\n",
       "      <td>5</td>\n",
       "      <td>360000</td>\n",
       "    </tr>\n",
       "    <tr>\n",
       "      <th>12696</th>\n",
       "      <td>Maruti Wagon R</td>\n",
       "      <td>Maruti</td>\n",
       "      <td>Wagon R</td>\n",
       "      <td>5</td>\n",
       "      <td>53000</td>\n",
       "      <td>Dealer</td>\n",
       "      <td>CNG</td>\n",
       "      <td>Manual</td>\n",
       "      <td>33.54</td>\n",
       "      <td>998</td>\n",
       "      <td>67.04</td>\n",
       "      <td>5</td>\n",
       "      <td>380000</td>\n",
       "    </tr>\n",
       "    <tr>\n",
       "      <th>15226</th>\n",
       "      <td>Maruti Wagon R</td>\n",
       "      <td>Maruti</td>\n",
       "      <td>Wagon R</td>\n",
       "      <td>5</td>\n",
       "      <td>74844</td>\n",
       "      <td>Dealer</td>\n",
       "      <td>CNG</td>\n",
       "      <td>Manual</td>\n",
       "      <td>33.54</td>\n",
       "      <td>998</td>\n",
       "      <td>67.04</td>\n",
       "      <td>5</td>\n",
       "      <td>390000</td>\n",
       "    </tr>\n",
       "  </tbody>\n",
       "</table>\n",
       "</div>"
      ],
      "text/plain": [
       "             car_name   brand    model  vehicle_age  km_driven  \\\n",
       "169    Maruti Wagon R  Maruti  Wagon R            3      52000   \n",
       "182    Maruti Wagon R  Maruti  Wagon R            8      64000   \n",
       "1250   Maruti Wagon R  Maruti  Wagon R            4      32013   \n",
       "1574   Maruti Wagon R  Maruti  Wagon R            6      55000   \n",
       "2271   Maruti Wagon R  Maruti  Wagon R            9      62000   \n",
       "2303   Maruti Wagon R  Maruti  Wagon R            7     135975   \n",
       "2364   Maruti Wagon R  Maruti  Wagon R            8      63000   \n",
       "2750   Maruti Wagon R  Maruti  Wagon R            8      55853   \n",
       "2925   Maruti Wagon R  Maruti  Wagon R            3      32000   \n",
       "3342   Maruti Wagon R  Maruti  Wagon R            5      64224   \n",
       "3743   Maruti Wagon R  Maruti  Wagon R            7      69000   \n",
       "6989   Maruti Wagon R  Maruti  Wagon R            6      69000   \n",
       "9193   Maruti Wagon R  Maruti  Wagon R            2      19022   \n",
       "9483   Maruti Wagon R  Maruti  Wagon R            3      33955   \n",
       "9908   Maruti Wagon R  Maruti  Wagon R            5      37208   \n",
       "9960   Maruti Wagon R  Maruti  Wagon R            3      55000   \n",
       "10303  Maruti Wagon R  Maruti  Wagon R            9      71000   \n",
       "10361  Maruti Wagon R  Maruti  Wagon R            4      75000   \n",
       "11310  Maruti Wagon R  Maruti  Wagon R            5      65000   \n",
       "11685  Maruti Wagon R  Maruti  Wagon R            4      28763   \n",
       "11727  Maruti Wagon R  Maruti  Wagon R            4      30000   \n",
       "12260  Maruti Wagon R  Maruti  Wagon R            5      56000   \n",
       "12696  Maruti Wagon R  Maruti  Wagon R            5      53000   \n",
       "15226  Maruti Wagon R  Maruti  Wagon R            5      74844   \n",
       "\n",
       "            seller_type fuel_type transmission_type  mileage  engine  \\\n",
       "169              Dealer       CNG            Manual    33.54     998   \n",
       "182              Dealer       CNG            Manual    33.54     998   \n",
       "1250   Trustmark Dealer       CNG            Manual    33.54     998   \n",
       "1574             Dealer       CNG            Manual    33.54     998   \n",
       "2271             Dealer       CNG            Manual    33.54     998   \n",
       "2303             Dealer       CNG            Manual    33.54     998   \n",
       "2364             Dealer       CNG            Manual    33.54     998   \n",
       "2750             Dealer       CNG            Manual    33.54     998   \n",
       "2925             Dealer       CNG            Manual    33.54     998   \n",
       "3342             Dealer       CNG            Manual    33.54     998   \n",
       "3743             Dealer       CNG            Manual    33.54     998   \n",
       "6989             Dealer       CNG            Manual    33.54     998   \n",
       "9193             Dealer       CNG            Manual    33.54     998   \n",
       "9483   Trustmark Dealer       CNG            Manual    33.54     998   \n",
       "9908   Trustmark Dealer       CNG            Manual    33.54     998   \n",
       "9960             Dealer       CNG            Manual    33.54     998   \n",
       "10303            Dealer       CNG            Manual    33.54     998   \n",
       "10361            Dealer       CNG            Manual    33.54     998   \n",
       "11310            Dealer       CNG            Manual    33.54     998   \n",
       "11685  Trustmark Dealer       CNG            Manual    33.54     998   \n",
       "11727        Individual       CNG            Manual    33.54     998   \n",
       "12260            Dealer       CNG            Manual    33.54     998   \n",
       "12696            Dealer       CNG            Manual    33.54     998   \n",
       "15226            Dealer       CNG            Manual    33.54     998   \n",
       "\n",
       "       max_power  seats  selling_price  \n",
       "169        67.04      5         435000  \n",
       "182        67.04      5         270000  \n",
       "1250       67.04      5         380000  \n",
       "1574       67.04      5         335000  \n",
       "2271       67.04      5         340000  \n",
       "2303       67.04      5         295000  \n",
       "2364       67.04      5         351000  \n",
       "2750       67.04      5         349000  \n",
       "2925       67.04      5         485000  \n",
       "3342       67.04      5         375000  \n",
       "3743       67.04      5         349000  \n",
       "6989       67.04      5         350000  \n",
       "9193       67.04      5         470000  \n",
       "9483       67.04      5         425000  \n",
       "9908       67.04      5         365000  \n",
       "9960       67.04      5         380000  \n",
       "10303      67.04      5         275000  \n",
       "10361      67.04      5         375000  \n",
       "11310      67.04      5         310000  \n",
       "11685      67.04      5         400000  \n",
       "11727      67.04      5         450000  \n",
       "12260      67.04      5         360000  \n",
       "12696      67.04      5         380000  \n",
       "15226      67.04      5         390000  "
      ]
     },
     "execution_count": 84,
     "metadata": {},
     "output_type": "execute_result"
    }
   ],
   "source": [
    "df[df['mileage'] == df['mileage'].max()]"
   ]
  },
  {
   "cell_type": "code",
   "execution_count": 88,
   "id": "cabe9986-6d2f-4eac-b0ad-2fb9aeca1891",
   "metadata": {},
   "outputs": [
    {
     "data": {
      "text/html": [
       "<div>\n",
       "<style scoped>\n",
       "    .dataframe tbody tr th:only-of-type {\n",
       "        vertical-align: middle;\n",
       "    }\n",
       "\n",
       "    .dataframe tbody tr th {\n",
       "        vertical-align: top;\n",
       "    }\n",
       "\n",
       "    .dataframe thead th {\n",
       "        text-align: right;\n",
       "    }\n",
       "</style>\n",
       "<table border=\"1\" class=\"dataframe\">\n",
       "  <thead>\n",
       "    <tr style=\"text-align: right;\">\n",
       "      <th></th>\n",
       "      <th>car_name</th>\n",
       "      <th>brand</th>\n",
       "      <th>model</th>\n",
       "      <th>vehicle_age</th>\n",
       "      <th>km_driven</th>\n",
       "      <th>seller_type</th>\n",
       "      <th>fuel_type</th>\n",
       "      <th>transmission_type</th>\n",
       "      <th>mileage</th>\n",
       "      <th>engine</th>\n",
       "      <th>max_power</th>\n",
       "      <th>seats</th>\n",
       "      <th>selling_price</th>\n",
       "    </tr>\n",
       "  </thead>\n",
       "  <tbody>\n",
       "    <tr>\n",
       "      <th>7607</th>\n",
       "      <td>Maruti Wagon R</td>\n",
       "      <td>Maruti</td>\n",
       "      <td>Wagon R</td>\n",
       "      <td>21</td>\n",
       "      <td>80000</td>\n",
       "      <td>Individual</td>\n",
       "      <td>Petrol</td>\n",
       "      <td>Manual</td>\n",
       "      <td>18.9</td>\n",
       "      <td>998</td>\n",
       "      <td>67.1</td>\n",
       "      <td>5</td>\n",
       "      <td>40000</td>\n",
       "    </tr>\n",
       "  </tbody>\n",
       "</table>\n",
       "</div>"
      ],
      "text/plain": [
       "            car_name   brand    model  vehicle_age  km_driven seller_type  \\\n",
       "7607  Maruti Wagon R  Maruti  Wagon R           21      80000  Individual   \n",
       "\n",
       "     fuel_type transmission_type  mileage  engine  max_power  seats  \\\n",
       "7607    Petrol            Manual     18.9     998       67.1      5   \n",
       "\n",
       "      selling_price  \n",
       "7607          40000  "
      ]
     },
     "execution_count": 88,
     "metadata": {},
     "output_type": "execute_result"
    }
   ],
   "source": [
    "df[df['selling_price'] == df['selling_price'].min()]"
   ]
  },
  {
   "cell_type": "code",
   "execution_count": 89,
   "id": "a98e7ca6-94be-4417-9d5c-521e0d04da92",
   "metadata": {},
   "outputs": [
    {
     "data": {
      "text/html": [
       "<div>\n",
       "<style scoped>\n",
       "    .dataframe tbody tr th:only-of-type {\n",
       "        vertical-align: middle;\n",
       "    }\n",
       "\n",
       "    .dataframe tbody tr th {\n",
       "        vertical-align: top;\n",
       "    }\n",
       "\n",
       "    .dataframe thead th {\n",
       "        text-align: right;\n",
       "    }\n",
       "</style>\n",
       "<table border=\"1\" class=\"dataframe\">\n",
       "  <thead>\n",
       "    <tr style=\"text-align: right;\">\n",
       "      <th></th>\n",
       "      <th>car_name</th>\n",
       "      <th>brand</th>\n",
       "      <th>model</th>\n",
       "      <th>vehicle_age</th>\n",
       "      <th>km_driven</th>\n",
       "      <th>seller_type</th>\n",
       "      <th>fuel_type</th>\n",
       "      <th>transmission_type</th>\n",
       "      <th>mileage</th>\n",
       "      <th>engine</th>\n",
       "      <th>max_power</th>\n",
       "      <th>seats</th>\n",
       "      <th>selling_price</th>\n",
       "    </tr>\n",
       "  </thead>\n",
       "  <tbody>\n",
       "    <tr>\n",
       "      <th>3799</th>\n",
       "      <td>Ferrari GTC4Lusso</td>\n",
       "      <td>Ferrari</td>\n",
       "      <td>GTC4Lusso</td>\n",
       "      <td>2</td>\n",
       "      <td>3800</td>\n",
       "      <td>Dealer</td>\n",
       "      <td>Petrol</td>\n",
       "      <td>Automatic</td>\n",
       "      <td>4.0</td>\n",
       "      <td>3855</td>\n",
       "      <td>601.0</td>\n",
       "      <td>4</td>\n",
       "      <td>39500000</td>\n",
       "    </tr>\n",
       "  </tbody>\n",
       "</table>\n",
       "</div>"
      ],
      "text/plain": [
       "               car_name    brand      model  vehicle_age  km_driven  \\\n",
       "3799  Ferrari GTC4Lusso  Ferrari  GTC4Lusso            2       3800   \n",
       "\n",
       "     seller_type fuel_type transmission_type  mileage  engine  max_power  \\\n",
       "3799      Dealer    Petrol         Automatic      4.0    3855      601.0   \n",
       "\n",
       "      seats  selling_price  \n",
       "3799      4       39500000  "
      ]
     },
     "execution_count": 89,
     "metadata": {},
     "output_type": "execute_result"
    }
   ],
   "source": [
    "\n",
    "df[df['selling_price'] == df['selling_price'].max()]"
   ]
  },
  {
   "cell_type": "code",
   "execution_count": 95,
   "id": "1c53e4ac-1cf1-4bce-8585-8428ec7c2982",
   "metadata": {},
   "outputs": [],
   "source": [
    "# to find second costy\n",
    "second_min_price = df['selling_price'].sort_values().values[10]"
   ]
  },
  {
   "cell_type": "code",
   "execution_count": 96,
   "id": "48189b15-b71d-4643-9189-7a0340c6d7fd",
   "metadata": {},
   "outputs": [
    {
     "data": {
      "text/html": [
       "<div>\n",
       "<style scoped>\n",
       "    .dataframe tbody tr th:only-of-type {\n",
       "        vertical-align: middle;\n",
       "    }\n",
       "\n",
       "    .dataframe tbody tr th {\n",
       "        vertical-align: top;\n",
       "    }\n",
       "\n",
       "    .dataframe thead th {\n",
       "        text-align: right;\n",
       "    }\n",
       "</style>\n",
       "<table border=\"1\" class=\"dataframe\">\n",
       "  <thead>\n",
       "    <tr style=\"text-align: right;\">\n",
       "      <th></th>\n",
       "      <th>car_name</th>\n",
       "      <th>brand</th>\n",
       "      <th>model</th>\n",
       "      <th>vehicle_age</th>\n",
       "      <th>km_driven</th>\n",
       "      <th>seller_type</th>\n",
       "      <th>fuel_type</th>\n",
       "      <th>transmission_type</th>\n",
       "      <th>mileage</th>\n",
       "      <th>engine</th>\n",
       "      <th>max_power</th>\n",
       "      <th>seats</th>\n",
       "      <th>selling_price</th>\n",
       "    </tr>\n",
       "  </thead>\n",
       "  <tbody>\n",
       "    <tr>\n",
       "      <th>529</th>\n",
       "      <td>Maruti Wagon R</td>\n",
       "      <td>Maruti</td>\n",
       "      <td>Wagon R</td>\n",
       "      <td>17</td>\n",
       "      <td>50000</td>\n",
       "      <td>Individual</td>\n",
       "      <td>Petrol</td>\n",
       "      <td>Manual</td>\n",
       "      <td>18.9</td>\n",
       "      <td>998</td>\n",
       "      <td>67.1</td>\n",
       "      <td>5</td>\n",
       "      <td>62000</td>\n",
       "    </tr>\n",
       "    <tr>\n",
       "      <th>4823</th>\n",
       "      <td>Maruti Alto</td>\n",
       "      <td>Maruti</td>\n",
       "      <td>Alto</td>\n",
       "      <td>15</td>\n",
       "      <td>100000</td>\n",
       "      <td>Individual</td>\n",
       "      <td>Petrol</td>\n",
       "      <td>Manual</td>\n",
       "      <td>19.7</td>\n",
       "      <td>796</td>\n",
       "      <td>46.3</td>\n",
       "      <td>5</td>\n",
       "      <td>62000</td>\n",
       "    </tr>\n",
       "  </tbody>\n",
       "</table>\n",
       "</div>"
      ],
      "text/plain": [
       "            car_name   brand    model  vehicle_age  km_driven seller_type  \\\n",
       "529   Maruti Wagon R  Maruti  Wagon R           17      50000  Individual   \n",
       "4823     Maruti Alto  Maruti     Alto           15     100000  Individual   \n",
       "\n",
       "     fuel_type transmission_type  mileage  engine  max_power  seats  \\\n",
       "529     Petrol            Manual     18.9     998       67.1      5   \n",
       "4823    Petrol            Manual     19.7     796       46.3      5   \n",
       "\n",
       "      selling_price  \n",
       "529           62000  \n",
       "4823          62000  "
      ]
     },
     "execution_count": 96,
     "metadata": {},
     "output_type": "execute_result"
    }
   ],
   "source": [
    "# to find second costly\n",
    "df[df['selling_price'] == second_min_price]"
   ]
  },
  {
   "cell_type": "code",
   "execution_count": 97,
   "id": "a97144e4-ee31-496f-a512-7c00f8183e18",
   "metadata": {},
   "outputs": [
    {
     "data": {
      "text/plain": [
       "Index(['car_name', 'brand', 'model', 'vehicle_age', 'km_driven', 'seller_type',\n",
       "       'fuel_type', 'transmission_type', 'mileage', 'engine', 'max_power',\n",
       "       'seats', 'selling_price'],\n",
       "      dtype='object')"
      ]
     },
     "execution_count": 97,
     "metadata": {},
     "output_type": "execute_result"
    }
   ],
   "source": [
    "df.columns"
   ]
  },
  {
   "cell_type": "code",
   "execution_count": 98,
   "id": "ea79812f-7adb-46da-b894-f91d17d86e7e",
   "metadata": {},
   "outputs": [],
   "source": [
    "top_10_sp_df = df.sort_values(by = 'selling_price',ascending = False).head(10)"
   ]
  },
  {
   "cell_type": "code",
   "execution_count": 99,
   "id": "dc537b9a-228f-4768-9933-8935d62467a5",
   "metadata": {},
   "outputs": [
    {
     "data": {
      "text/plain": [
       "Index(['car_name', 'brand', 'model', 'vehicle_age', 'km_driven', 'seller_type',\n",
       "       'fuel_type', 'transmission_type', 'mileage', 'engine', 'max_power',\n",
       "       'seats', 'selling_price'],\n",
       "      dtype='object')"
      ]
     },
     "execution_count": 99,
     "metadata": {},
     "output_type": "execute_result"
    }
   ],
   "source": [
    "df.columns"
   ]
  },
  {
   "cell_type": "code",
   "execution_count": 100,
   "id": "17b7c656-6fe6-4aec-b0fe-5f6343d5c5c1",
   "metadata": {},
   "outputs": [
    {
     "data": {
      "text/html": [
       "<div>\n",
       "<style scoped>\n",
       "    .dataframe tbody tr th:only-of-type {\n",
       "        vertical-align: middle;\n",
       "    }\n",
       "\n",
       "    .dataframe tbody tr th {\n",
       "        vertical-align: top;\n",
       "    }\n",
       "\n",
       "    .dataframe thead th {\n",
       "        text-align: right;\n",
       "    }\n",
       "</style>\n",
       "<table border=\"1\" class=\"dataframe\">\n",
       "  <thead>\n",
       "    <tr style=\"text-align: right;\">\n",
       "      <th></th>\n",
       "      <th>car_name</th>\n",
       "      <th>vehicle_age</th>\n",
       "      <th>fuel_type</th>\n",
       "      <th>selling_price</th>\n",
       "    </tr>\n",
       "  </thead>\n",
       "  <tbody>\n",
       "    <tr>\n",
       "      <th>3799</th>\n",
       "      <td>Ferrari GTC4Lusso</td>\n",
       "      <td>2</td>\n",
       "      <td>Petrol</td>\n",
       "      <td>39500000</td>\n",
       "    </tr>\n",
       "    <tr>\n",
       "      <th>10969</th>\n",
       "      <td>Rolls-Royce Ghost</td>\n",
       "      <td>4</td>\n",
       "      <td>Petrol</td>\n",
       "      <td>24200000</td>\n",
       "    </tr>\n",
       "    <tr>\n",
       "      <th>1172</th>\n",
       "      <td>Bentley Continental</td>\n",
       "      <td>9</td>\n",
       "      <td>Petrol</td>\n",
       "      <td>14500000</td>\n",
       "    </tr>\n",
       "    <tr>\n",
       "      <th>9722</th>\n",
       "      <td>Mercedes-Benz S-Class</td>\n",
       "      <td>3</td>\n",
       "      <td>Petrol</td>\n",
       "      <td>13000000</td>\n",
       "    </tr>\n",
       "    <tr>\n",
       "      <th>9364</th>\n",
       "      <td>Porsche Cayenne</td>\n",
       "      <td>4</td>\n",
       "      <td>Petrol</td>\n",
       "      <td>11100000</td>\n",
       "    </tr>\n",
       "    <tr>\n",
       "      <th>10989</th>\n",
       "      <td>Mercedes-Benz S-Class</td>\n",
       "      <td>2</td>\n",
       "      <td>Petrol</td>\n",
       "      <td>11000000</td>\n",
       "    </tr>\n",
       "    <tr>\n",
       "      <th>1888</th>\n",
       "      <td>Mercedes-Benz S-Class</td>\n",
       "      <td>5</td>\n",
       "      <td>Petrol</td>\n",
       "      <td>11000000</td>\n",
       "    </tr>\n",
       "    <tr>\n",
       "      <th>11000</th>\n",
       "      <td>Land Rover Rover</td>\n",
       "      <td>4</td>\n",
       "      <td>Diesel</td>\n",
       "      <td>9200000</td>\n",
       "    </tr>\n",
       "    <tr>\n",
       "      <th>8439</th>\n",
       "      <td>BMW 7</td>\n",
       "      <td>3</td>\n",
       "      <td>Diesel</td>\n",
       "      <td>8500000</td>\n",
       "    </tr>\n",
       "    <tr>\n",
       "      <th>3096</th>\n",
       "      <td>BMW 7</td>\n",
       "      <td>3</td>\n",
       "      <td>Diesel</td>\n",
       "      <td>8500000</td>\n",
       "    </tr>\n",
       "  </tbody>\n",
       "</table>\n",
       "</div>"
      ],
      "text/plain": [
       "                    car_name  vehicle_age fuel_type  selling_price\n",
       "3799       Ferrari GTC4Lusso            2    Petrol       39500000\n",
       "10969      Rolls-Royce Ghost            4    Petrol       24200000\n",
       "1172     Bentley Continental            9    Petrol       14500000\n",
       "9722   Mercedes-Benz S-Class            3    Petrol       13000000\n",
       "9364         Porsche Cayenne            4    Petrol       11100000\n",
       "10989  Mercedes-Benz S-Class            2    Petrol       11000000\n",
       "1888   Mercedes-Benz S-Class            5    Petrol       11000000\n",
       "11000       Land Rover Rover            4    Diesel        9200000\n",
       "8439                   BMW 7            3    Diesel        8500000\n",
       "3096                   BMW 7            3    Diesel        8500000"
      ]
     },
     "execution_count": 100,
     "metadata": {},
     "output_type": "execute_result"
    }
   ],
   "source": [
    "top_10_sp_df[['car_name','vehicle_age','fuel_type','selling_price']]"
   ]
  },
  {
   "cell_type": "code",
   "execution_count": null,
   "id": "ac5f44a3-a51b-4380-87d9-02a41cd3f564",
   "metadata": {},
   "outputs": [],
   "source": []
  }
 ],
 "metadata": {
  "kernelspec": {
   "display_name": "Python [conda env:base] *",
   "language": "python",
   "name": "conda-base-py"
  },
  "language_info": {
   "codemirror_mode": {
    "name": "ipython",
    "version": 3
   },
   "file_extension": ".py",
   "mimetype": "text/x-python",
   "name": "python",
   "nbconvert_exporter": "python",
   "pygments_lexer": "ipython3",
   "version": "3.13.5"
  }
 },
 "nbformat": 4,
 "nbformat_minor": 5
}
