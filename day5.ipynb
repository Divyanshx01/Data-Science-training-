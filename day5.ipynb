{
 "cells": [
  {
   "cell_type": "code",
   "execution_count": 1,
   "id": "e66efb16-6ff6-4ee4-97cf-bdb68b59223d",
   "metadata": {},
   "outputs": [],
   "source": [
    "# python to Mysql connect"
   ]
  },
  {
   "cell_type": "code",
   "execution_count": 2,
   "id": "89d2f795-131a-4e92-9ce3-2f099689509d",
   "metadata": {},
   "outputs": [
    {
     "name": "stdout",
     "output_type": "stream",
     "text": [
      "Done\n"
     ]
    }
   ],
   "source": [
    "import pymysql as py\n",
    "print('Done')"
   ]
  },
  {
   "cell_type": "code",
   "execution_count": 1,
   "id": "f06f2ba3-832d-4c99-9f2d-7141a0bf4611",
   "metadata": {},
   "outputs": [],
   "source": [
    "# pip install PyMySQL"
   ]
  },
  {
   "cell_type": "code",
   "execution_count": 3,
   "id": "ee75f095-f54f-4e97-abc9-ac066404d9d4",
   "metadata": {},
   "outputs": [
    {
     "name": "stdout",
     "output_type": "stream",
     "text": [
      "Connection Created Successfully\n",
      "Done\n"
     ]
    }
   ],
   "source": [
    "conn = py.connect(user = 'root',\n",
    "           password = 'divyansh_0047',\n",
    "           host = 'localhost',\n",
    "           autocommit = True)\n",
    "print('Connection Created Successfully')\n",
    "print('Done')"
   ]
  },
  {
   "cell_type": "code",
   "execution_count": 6,
   "id": "936b2aeb-d12c-419d-af04-074312c692b2",
   "metadata": {},
   "outputs": [],
   "source": [
    "# create databse using python"
   ]
  },
  {
   "cell_type": "code",
   "execution_count": 4,
   "id": "e1b46f83-6cbf-45cc-b995-d303bea7e511",
   "metadata": {},
   "outputs": [
    {
     "name": "stdout",
     "output_type": "stream",
     "text": [
      "Done\n"
     ]
    }
   ],
   "source": [
    "cur = conn.cursor()\n",
    "print('Done')"
   ]
  },
  {
   "cell_type": "code",
   "execution_count": 10,
   "id": "84a5c887-9785-4e91-ab6d-0762b9513ded",
   "metadata": {},
   "outputs": [],
   "source": [
    "# create databse using python"
   ]
  },
  {
   "cell_type": "code",
   "execution_count": 14,
   "id": "c8ab89d3-000f-4615-92a4-72ea0e93c3f2",
   "metadata": {},
   "outputs": [
    {
     "name": "stdout",
     "output_type": "stream",
     "text": [
      "Done\n"
     ]
    }
   ],
   "source": [
    "query = '''create database IITMD;'''\n",
    "\n",
    "cur.execute(query)\n",
    "print('Done')"
   ]
  },
  {
   "cell_type": "code",
   "execution_count": 5,
   "id": "ee42f780-82a9-47e9-940c-da7efa20d9a0",
   "metadata": {},
   "outputs": [
    {
     "name": "stdout",
     "output_type": "stream",
     "text": [
      "Done\n"
     ]
    }
   ],
   "source": [
    "query = '''USE IITMD;'''\n",
    "cur.execute(query)\n",
    "print('Done')"
   ]
  },
  {
   "cell_type": "code",
   "execution_count": 29,
   "id": "27690f0d-7805-40d6-992a-ce5aeb64e890",
   "metadata": {},
   "outputs": [
    {
     "name": "stdout",
     "output_type": "stream",
     "text": [
      "Done\n"
     ]
    }
   ],
   "source": [
    "query = '''insert into student_details\n",
    "values\n",
    "(101,\"Mohan Sharma\",\"BCA\",\"Delhi Janakpuri\",5000),\n",
    "(105,\"Ravi verma\",\"MCA\",\"South Delhi\",5500);\n",
    "'''\n",
    "cur.execute(query)\n",
    "print('Done')"
   ]
  },
  {
   "cell_type": "code",
   "execution_count": 11,
   "id": "a873b51f-8832-4358-8c5e-c0e81131c796",
   "metadata": {},
   "outputs": [
    {
     "name": "stdin",
     "output_type": "stream",
     "text": [
      "Enter Roll No/SID:  104\n",
      "Enter your Name: Shreya\n",
      "enter your Course BCOM\n",
      "Enter your Address New Delhi\n",
      "Enter your scholarship in RS 8000\n"
     ]
    },
    {
     "name": "stdout",
     "output_type": "stream",
     "text": [
      "Done\n"
     ]
    }
   ],
   "source": [
    "\n",
    "sid = int(input('Enter Roll No/SID: '))\n",
    "name = input('Enter your Name:')\n",
    "course = input('enter your Course')\n",
    "address =  input('Enter your Address')\n",
    "scholarship = float(input('Enter your scholarship in RS'))\n",
    "\n",
    "q = f'''insert into student_details values \n",
    "({sid},\"{name}\",\"{course}\",\"{address}\",{scholarship});'''\n",
    "cur.execute(q)\n",
    "print('Done')"
   ]
  },
  {
   "cell_type": "code",
   "execution_count": 24,
   "id": "6dbe113a-9f5c-49a6-96c9-c0ce635fbcb7",
   "metadata": {},
   "outputs": [
    {
     "data": {
      "text/html": [
       "<div>\n",
       "<style scoped>\n",
       "    .dataframe tbody tr th:only-of-type {\n",
       "        vertical-align: middle;\n",
       "    }\n",
       "\n",
       "    .dataframe tbody tr th {\n",
       "        vertical-align: top;\n",
       "    }\n",
       "\n",
       "    .dataframe thead th {\n",
       "        text-align: right;\n",
       "    }\n",
       "</style>\n",
       "<table border=\"1\" class=\"dataframe\">\n",
       "  <thead>\n",
       "    <tr style=\"text-align: right;\">\n",
       "      <th></th>\n",
       "      <th>0</th>\n",
       "      <th>1</th>\n",
       "      <th>2</th>\n",
       "      <th>3</th>\n",
       "      <th>4</th>\n",
       "    </tr>\n",
       "  </thead>\n",
       "  <tbody>\n",
       "    <tr>\n",
       "      <th>0</th>\n",
       "      <td>101</td>\n",
       "      <td>Mohan Sharma</td>\n",
       "      <td>BCA</td>\n",
       "      <td>Delhi Janakpuri</td>\n",
       "      <td>5000</td>\n",
       "    </tr>\n",
       "    <tr>\n",
       "      <th>1</th>\n",
       "      <td>105</td>\n",
       "      <td>Ravi verma</td>\n",
       "      <td>MCA</td>\n",
       "      <td>South Delhi</td>\n",
       "      <td>5500</td>\n",
       "    </tr>\n",
       "    <tr>\n",
       "      <th>2</th>\n",
       "      <td>1</td>\n",
       "      <td>1</td>\n",
       "      <td>1</td>\n",
       "      <td>1</td>\n",
       "      <td>1</td>\n",
       "    </tr>\n",
       "    <tr>\n",
       "      <th>3</th>\n",
       "      <td>1</td>\n",
       "      <td>1</td>\n",
       "      <td>1</td>\n",
       "      <td>1</td>\n",
       "      <td>1</td>\n",
       "    </tr>\n",
       "    <tr>\n",
       "      <th>4</th>\n",
       "      <td>111</td>\n",
       "      <td>aayush</td>\n",
       "      <td>bca</td>\n",
       "      <td>dwarka</td>\n",
       "      <td>6000</td>\n",
       "    </tr>\n",
       "    <tr>\n",
       "      <th>5</th>\n",
       "      <td>102</td>\n",
       "      <td>Harshwardhan</td>\n",
       "      <td>BBA</td>\n",
       "      <td>Rani Bagh</td>\n",
       "      <td>6600</td>\n",
       "    </tr>\n",
       "    <tr>\n",
       "      <th>6</th>\n",
       "      <td>103</td>\n",
       "      <td>chintu</td>\n",
       "      <td>BCA</td>\n",
       "      <td>Lado Sarai</td>\n",
       "      <td>5000</td>\n",
       "    </tr>\n",
       "    <tr>\n",
       "      <th>7</th>\n",
       "      <td>104</td>\n",
       "      <td>Shreya</td>\n",
       "      <td>BCOM</td>\n",
       "      <td>New Delhi</td>\n",
       "      <td>8000</td>\n",
       "    </tr>\n",
       "  </tbody>\n",
       "</table>\n",
       "</div>"
      ],
      "text/plain": [
       "     0             1     2                3     4\n",
       "0  101  Mohan Sharma   BCA  Delhi Janakpuri  5000\n",
       "1  105    Ravi verma   MCA      South Delhi  5500\n",
       "2    1             1     1                1     1\n",
       "3    1             1     1                1     1\n",
       "4  111        aayush   bca           dwarka  6000\n",
       "5  102  Harshwardhan   BBA        Rani Bagh  6600\n",
       "6  103        chintu   BCA       Lado Sarai  5000\n",
       "7  104        Shreya  BCOM        New Delhi  8000"
      ]
     },
     "execution_count": 24,
     "metadata": {},
     "output_type": "execute_result"
    }
   ],
   "source": [
    "query = '''select * from student_details;'''\n",
    "\n",
    "cur.execute(query)\n",
    "\n",
    "records = cur.fetchall()\n",
    "\n",
    "\n",
    "import pandas as pd  \n",
    "pd.DataFrame(records)"
   ]
  },
  {
   "cell_type": "code",
   "execution_count": 34,
   "id": "fedc197c-4e96-4039-a88d-6f153718f6b9",
   "metadata": {},
   "outputs": [
    {
     "name": "stdout",
     "output_type": "stream",
     "text": [
      "['SID', 'student_name', 'course', 'Address', 'scholarship']\n"
     ]
    }
   ],
   "source": [
    "all_columns = []\n",
    "for i in cur.description:\n",
    "    current_column=i[0]\n",
    "    all_columns.append(current_column)\n",
    "print(all_columns)"
   ]
  },
  {
   "cell_type": "code",
   "execution_count": 38,
   "id": "d594e5da-0944-44cb-a561-6154cdff73e5",
   "metadata": {},
   "outputs": [
    {
     "data": {
      "text/html": [
       "<div>\n",
       "<style scoped>\n",
       "    .dataframe tbody tr th:only-of-type {\n",
       "        vertical-align: middle;\n",
       "    }\n",
       "\n",
       "    .dataframe tbody tr th {\n",
       "        vertical-align: top;\n",
       "    }\n",
       "\n",
       "    .dataframe thead th {\n",
       "        text-align: right;\n",
       "    }\n",
       "</style>\n",
       "<table border=\"1\" class=\"dataframe\">\n",
       "  <thead>\n",
       "    <tr style=\"text-align: right;\">\n",
       "      <th></th>\n",
       "      <th>SID</th>\n",
       "      <th>student_name</th>\n",
       "      <th>course</th>\n",
       "      <th>Address</th>\n",
       "      <th>scholarship</th>\n",
       "    </tr>\n",
       "  </thead>\n",
       "  <tbody>\n",
       "    <tr>\n",
       "      <th>0</th>\n",
       "      <td>101</td>\n",
       "      <td>Mohan Sharma</td>\n",
       "      <td>BCA</td>\n",
       "      <td>Delhi Janakpuri</td>\n",
       "      <td>5000</td>\n",
       "    </tr>\n",
       "    <tr>\n",
       "      <th>1</th>\n",
       "      <td>105</td>\n",
       "      <td>Ravi verma</td>\n",
       "      <td>MCA</td>\n",
       "      <td>South Delhi</td>\n",
       "      <td>5500</td>\n",
       "    </tr>\n",
       "    <tr>\n",
       "      <th>2</th>\n",
       "      <td>1</td>\n",
       "      <td>1</td>\n",
       "      <td>1</td>\n",
       "      <td>1</td>\n",
       "      <td>1</td>\n",
       "    </tr>\n",
       "    <tr>\n",
       "      <th>3</th>\n",
       "      <td>1</td>\n",
       "      <td>1</td>\n",
       "      <td>1</td>\n",
       "      <td>1</td>\n",
       "      <td>1</td>\n",
       "    </tr>\n",
       "    <tr>\n",
       "      <th>4</th>\n",
       "      <td>111</td>\n",
       "      <td>aayush</td>\n",
       "      <td>bca</td>\n",
       "      <td>dwarka</td>\n",
       "      <td>6000</td>\n",
       "    </tr>\n",
       "    <tr>\n",
       "      <th>5</th>\n",
       "      <td>102</td>\n",
       "      <td>Harshwardhan</td>\n",
       "      <td>BBA</td>\n",
       "      <td>Rani Bagh</td>\n",
       "      <td>6600</td>\n",
       "    </tr>\n",
       "    <tr>\n",
       "      <th>6</th>\n",
       "      <td>103</td>\n",
       "      <td>chintu</td>\n",
       "      <td>BCA</td>\n",
       "      <td>Lado Sarai</td>\n",
       "      <td>5000</td>\n",
       "    </tr>\n",
       "    <tr>\n",
       "      <th>7</th>\n",
       "      <td>104</td>\n",
       "      <td>Shreya</td>\n",
       "      <td>BCOM</td>\n",
       "      <td>New Delhi</td>\n",
       "      <td>8000</td>\n",
       "    </tr>\n",
       "  </tbody>\n",
       "</table>\n",
       "</div>"
      ],
      "text/plain": [
       "   SID  student_name course          Address  scholarship\n",
       "0  101  Mohan Sharma    BCA  Delhi Janakpuri         5000\n",
       "1  105    Ravi verma    MCA      South Delhi         5500\n",
       "2    1             1      1                1            1\n",
       "3    1             1      1                1            1\n",
       "4  111        aayush    bca           dwarka         6000\n",
       "5  102  Harshwardhan    BBA        Rani Bagh         6600\n",
       "6  103        chintu    BCA       Lado Sarai         5000\n",
       "7  104        Shreya   BCOM        New Delhi         8000"
      ]
     },
     "execution_count": 38,
     "metadata": {},
     "output_type": "execute_result"
    }
   ],
   "source": [
    "query7 = '''\n",
    " select * from student_details;\n",
    " \n",
    " \n",
    " '''\n",
    "cur.execute(query7)\n",
    "records = cur.fetchall()\n",
    "\n",
    "import pandas as pd\n",
    "pd.DataFrame(records,columns=all_columns)\n"
   ]
  },
  {
   "cell_type": "code",
   "execution_count": 50,
   "id": "e297178f-9eae-4872-94ad-7778ba205fb0",
   "metadata": {},
   "outputs": [],
   "source": [
    "\n",
    "def show_records(db,table):\n",
    "    query8 = f'''select * from {db}.{table};'''\n",
    "    cur.execute(query8)\n",
    "\n",
    "    \n",
    "    records = cur.fetchall()\n",
    "    \n",
    "    all_columns = []\n",
    "    for i in cur.description:\n",
    "        all_columns.append(i[0])\n",
    "        \n",
    "    import pandas as pd\n",
    "    df=pd.DataFrame(records,columns=all_columns)\n",
    "    return df"
   ]
  },
  {
   "cell_type": "code",
   "execution_count": 51,
   "id": "cc167481-fc2c-4b9f-9c1e-225bc1a607df",
   "metadata": {},
   "outputs": [
    {
     "name": "stdout",
     "output_type": "stream",
     "text": [
      "Done\n"
     ]
    }
   ],
   "source": [
    "conn.close()\n",
    "print('Done')"
   ]
  },
  {
   "cell_type": "code",
   "execution_count": null,
   "id": "e0b0b51f-2337-44d8-97ad-3df3be004bc4",
   "metadata": {},
   "outputs": [],
   "source": []
  }
 ],
 "metadata": {
  "kernelspec": {
   "display_name": "Python [conda env:base] *",
   "language": "python",
   "name": "conda-base-py"
  },
  "language_info": {
   "codemirror_mode": {
    "name": "ipython",
    "version": 3
   },
   "file_extension": ".py",
   "mimetype": "text/x-python",
   "name": "python",
   "nbconvert_exporter": "python",
   "pygments_lexer": "ipython3",
   "version": "3.13.5"
  }
 },
 "nbformat": 4,
 "nbformat_minor": 5
}
