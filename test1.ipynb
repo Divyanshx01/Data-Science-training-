{
 "cells": [
  {
   "cell_type": "code",
   "execution_count": null,
   "id": "6e3f1aaf-cd43-4ab7-a938-939dc0d950b9",
   "metadata": {},
   "outputs": [],
   "source": [
    "Name:Divyansh Choudhary\n",
    "M2\n",
    "\n",
    "\n",
    "\n",
    "Q1\n",
    "Ans: Tuple = tuple is immutable, example = (2,'Ramesh','Delhi')\n",
    "List = list is mutable, example= [1,2,5],[34,45,56]"
   ]
  },
  {
   "cell_type": "code",
   "execution_count": 3,
   "id": "e4ef27a2-91bd-4586-819c-2407ba3347a6",
   "metadata": {},
   "outputs": [
    {
     "name": "stdout",
     "output_type": "stream",
     "text": [
      "(2, 'Ramesh', 'Delhi')\n"
     ]
    }
   ],
   "source": [
    "mytuple=(2,'Ramesh','Delhi')\n",
    "print(mytuple)"
   ]
  },
  {
   "cell_type": "code",
   "execution_count": 1,
   "id": "1df721c3-4117-41be-9c10-78e920922567",
   "metadata": {},
   "outputs": [
    {
     "name": "stdout",
     "output_type": "stream",
     "text": [
      "[1, 2, 3, 3, 4]\n"
     ]
    }
   ],
   "source": [
    "mylist =[1,2,3,3,4]\n",
    "print(mylist)"
   ]
  },
  {
   "cell_type": "code",
   "execution_count": null,
   "id": "c0a19e79-c540-4069-ad53-ad95b1647aa7",
   "metadata": {},
   "outputs": [],
   "source": [
    "Q2\n",
    "ans:\n",
    "input()it is user input data and  stores data in variable form and by default it stores data as strings\n"
   ]
  },
  {
   "cell_type": "code",
   "execution_count": null,
   "id": "04dbf1fb-5fd0-46e9-8d15-c019ebed2909",
   "metadata": {},
   "outputs": [],
   "source": [
    "Q3\n",
    "ans: dictionary is a unordered data where we add information, dictionary is mutable in python \n",
    "syntax/example: my_dict = {01,'Ayush','New Delhi',9098092009)}"
   ]
  },
  {
   "cell_type": "code",
   "execution_count": 5,
   "id": "c74ee2ed-4d2c-4926-9f73-a0550fc27cd8",
   "metadata": {},
   "outputs": [
    {
     "name": "stdout",
     "output_type": "stream",
     "text": [
      "{1, 'Ayush', 9098080890, 'New Delhi'}\n"
     ]
    }
   ],
   "source": [
    "my_dict = {1,'Ayush','New Delhi',9098080890}\n",
    "print(my_dict)"
   ]
  },
  {
   "cell_type": "code",
   "execution_count": null,
   "id": "8061dc78-c089-4ddc-94a4-9cad174f8379",
   "metadata": {},
   "outputs": [],
   "source": [
    "Q4\n",
    "ans: for loop is used to iterate the data in sequence\n",
    "number = [1,2,3,4,5,6]\n",
    "for i in number\n",
    "if(i ==5):\n",
    "    print(i)"
   ]
  },
  {
   "cell_type": "code",
   "execution_count": 13,
   "id": "d3e3dfd7-1d52-477c-8525-5c48768a0982",
   "metadata": {},
   "outputs": [
    {
     "name": "stdout",
     "output_type": "stream",
     "text": [
      "1\n",
      "2\n",
      "3\n",
      "4\n",
      "5\n"
     ]
    }
   ],
   "source": [
    "number = [1,2,3,4,5]\n",
    "for i in number:\n",
    " if(i ==1,5):\n",
    "    print(i)"
   ]
  },
  {
   "cell_type": "code",
   "execution_count": null,
   "id": "2b074a45-d330-4581-9fd7-3f71f9982aed",
   "metadata": {},
   "outputs": [],
   "source": [
    "Q5\n",
    "ans: exceptional handling is used to handle the errors arising \n",
    "while we are executing the code\n",
    "try: try is used to test the line of code \n",
    "    except: except is used when running the code\n",
    "    finally: finally always runs the code\n"
   ]
  },
  {
   "cell_type": "code",
   "execution_count": 16,
   "id": "5cdae3c0-3012-4b30-8311-d0c365117c66",
   "metadata": {},
   "outputs": [
    {
     "ename": "_IncompleteInputError",
     "evalue": "incomplete input (684859489.py, line 2)",
     "output_type": "error",
     "traceback": [
      "\u001b[0;36m  Cell \u001b[0;32mIn[16], line 2\u001b[0;36m\u001b[0m\n\u001b[0;31m    print('done')\u001b[0m\n\u001b[0m                 ^\u001b[0m\n\u001b[0;31m_IncompleteInputError\u001b[0m\u001b[0;31m:\u001b[0m incomplete input\n"
     ]
    }
   ],
   "source": [
    "try:\n",
    "    print('done')"
   ]
  },
  {
   "cell_type": "code",
   "execution_count": 17,
   "id": "1bbf7cb6-5aa1-4180-880f-f5de9343e870",
   "metadata": {},
   "outputs": [
    {
     "ename": "SyntaxError",
     "evalue": "invalid syntax (2709370924.py, line 1)",
     "output_type": "error",
     "traceback": [
      "\u001b[0;36m  Cell \u001b[0;32mIn[17], line 1\u001b[0;36m\u001b[0m\n\u001b[0;31m    except:\u001b[0m\n\u001b[0m    ^\u001b[0m\n\u001b[0;31mSyntaxError\u001b[0m\u001b[0;31m:\u001b[0m invalid syntax\n"
     ]
    }
   ],
   "source": [
    "except:\n",
    "print('an error occured')"
   ]
  },
  {
   "cell_type": "code",
   "execution_count": 20,
   "id": "4ee5cfae-ab0e-4693-8eda-b30ef5a63c02",
   "metadata": {},
   "outputs": [
    {
     "ename": "SyntaxError",
     "evalue": "invalid syntax (3763980061.py, line 1)",
     "output_type": "error",
     "traceback": [
      "\u001b[0;36m  Cell \u001b[0;32mIn[20], line 1\u001b[0;36m\u001b[0m\n\u001b[0;31m    finally:\u001b[0m\n\u001b[0m    ^\u001b[0m\n\u001b[0;31mSyntaxError\u001b[0m\u001b[0;31m:\u001b[0m invalid syntax\n"
     ]
    }
   ],
   "source": [
    "finally:\n",
    "print('try again later')"
   ]
  },
  {
   "cell_type": "code",
   "execution_count": null,
   "id": "8b002730-a6c9-42c9-871e-258a6ab5648f",
   "metadata": {},
   "outputs": [],
   "source": [
    "Q6\n",
    "Ans:\n",
    "python module have python statements and definitions \n",
    "python modules allowed us ways to perform operations\n",
    "\n",
    "import math will import the math module any function which has mathematical expression\n",
    "is from import math.\n",
    "\n",
    "from math import will import all functions that can be used as sqrt etc."
   ]
  },
  {
   "cell_type": "code",
   "execution_count": null,
   "id": "a1cfca6b-8279-4732-8789-1b2dd58dc0f3",
   "metadata": {},
   "outputs": [],
   "source": [
    "Q7\n",
    "Ans: OOP or object oriented programming in python \n",
    "means to group up classes and objects in a code to display real world entities\n",
    "class: class is a blueprint of object\n",
    "Object: object is a instance of class\n",
    "\n"
   ]
  },
  {
   "cell_type": "code",
   "execution_count": 31,
   "id": "48c1de67-63aa-496d-91b7-e1b90d8c3a2c",
   "metadata": {},
   "outputs": [
    {
     "name": "stdout",
     "output_type": "stream",
     "text": [
      "This is a white mahindra car.\n",
      "This is a Red Hyundai car.\n"
     ]
    }
   ],
   "source": [
    "class Car:\n",
    "\n",
    "    def __init__(self, brand, color):\n",
    "        self.brand = brand  \n",
    "        self.color = color  \n",
    "    def display_info(self):\n",
    "        print(f\"This is a {self.color} {self.brand} car.\")\n",
    "\n",
    "car1 = Car('mahindra', 'white')\n",
    "car2 = Car('Hyundai', 'Red')\n",
    "car1.display_info()  \n",
    "car2.display_info()"
   ]
  },
  {
   "cell_type": "code",
   "execution_count": null,
   "id": "c6694caf-ac36-466b-8732-489198f1729b",
   "metadata": {},
   "outputs": [],
   "source": [
    "Q8\n",
    "Ans: list comprehension is used to create new list based \n",
    "on the values of existing list\n",
    "\n"
   ]
  },
  {
   "cell_type": "code",
   "execution_count": 36,
   "id": "a4319d01-a9de-4d85-82ea-2925013e9c64",
   "metadata": {},
   "outputs": [
    {
     "ename": "IndentationError",
     "evalue": "expected an indented block after 'if' statement on line 3 (2277986396.py, line 4)",
     "output_type": "error",
     "traceback": [
      "\u001b[0;36m  Cell \u001b[0;32mIn[36], line 4\u001b[0;36m\u001b[0m\n\u001b[0;31m    result.append(x * 2)\u001b[0m\n\u001b[0m                        ^\u001b[0m\n\u001b[0;31mIndentationError\u001b[0m\u001b[0;31m:\u001b[0m expected an indented block after 'if' statement on line 3\n"
     ]
    }
   ],
   "source": [
    "result = []\n",
    "for x in range(10):\n",
    " if x % 2 == 0:\n",
    "result.append(x * 2)\n",
    "print('Done')"
   ]
  },
  {
   "cell_type": "code",
   "execution_count": 39,
   "id": "1266960d-ae81-46e7-b78a-2ad461ad404c",
   "metadata": {},
   "outputs": [
    {
     "name": "stdout",
     "output_type": "stream",
     "text": [
      "The area of the circle with radius 5 is 49.32\n"
     ]
    }
   ],
   "source": [
    "\n",
    "Q9\n",
    "ans \n",
    "import math\n",
    "\n",
    "def calculate_area(radius):\n",
    "    '''Calculate the area of a circle given its radius.'''\n",
    "    area = math.pi * radius * 3.14\n",
    "    return area\n",
    "\n",
    "radius = 5\n",
    "result = calculate_area(radius)\n",
    "print(f\"The area of the circle with radius {radius} is {result:.2f}\")\n"
   ]
  },
  {
   "cell_type": "code",
   "execution_count": null,
   "id": "55630b89-dd25-4dcd-99ca-52b26c392859",
   "metadata": {},
   "outputs": [],
   "source": []
  }
 ],
 "metadata": {
  "kernelspec": {
   "display_name": "Python [conda env:base] *",
   "language": "python",
   "name": "conda-base-py"
  },
  "language_info": {
   "codemirror_mode": {
    "name": "ipython",
    "version": 3
   },
   "file_extension": ".py",
   "mimetype": "text/x-python",
   "name": "python",
   "nbconvert_exporter": "python",
   "pygments_lexer": "ipython3",
   "version": "3.13.5"
  }
 },
 "nbformat": 4,
 "nbformat_minor": 5
}
